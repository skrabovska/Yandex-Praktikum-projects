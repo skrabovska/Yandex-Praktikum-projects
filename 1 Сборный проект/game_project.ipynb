{
 "cells": [
  {
   "cell_type": "markdown",
   "metadata": {},
   "source": [
    "### Шаг 1. Изучение общей информации"
   ]
  },
  {
   "cell_type": "code",
   "execution_count": 1,
   "metadata": {},
   "outputs": [
    {
     "ename": "ModuleNotFoundError",
     "evalue": "No module named 'plotly'",
     "output_type": "error",
     "traceback": [
      "\u001b[1;31m---------------------------------------------------------------------------\u001b[0m",
      "\u001b[1;31mModuleNotFoundError\u001b[0m                       Traceback (most recent call last)",
      "\u001b[1;32m<ipython-input-1-c304edbb1655>\u001b[0m in \u001b[0;36m<module>\u001b[1;34m\u001b[0m\n\u001b[0;32m      1\u001b[0m \u001b[1;32mimport\u001b[0m \u001b[0mpandas\u001b[0m \u001b[1;32mas\u001b[0m \u001b[0mpd\u001b[0m\u001b[1;33m\u001b[0m\u001b[1;33m\u001b[0m\u001b[0m\n\u001b[0;32m      2\u001b[0m \u001b[1;32mimport\u001b[0m \u001b[0mnumpy\u001b[0m \u001b[1;32mas\u001b[0m \u001b[0mnp\u001b[0m\u001b[1;33m\u001b[0m\u001b[1;33m\u001b[0m\u001b[0m\n\u001b[1;32m----> 3\u001b[1;33m \u001b[1;32mimport\u001b[0m \u001b[0mplotly\u001b[0m \u001b[1;32mas\u001b[0m \u001b[0mplt\u001b[0m\u001b[1;33m\u001b[0m\u001b[1;33m\u001b[0m\u001b[0m\n\u001b[0m\u001b[0;32m      4\u001b[0m \u001b[1;32mimport\u001b[0m \u001b[0mplotly\u001b[0m\u001b[1;33m.\u001b[0m\u001b[0mexpress\u001b[0m \u001b[1;32mas\u001b[0m \u001b[0mpx\u001b[0m\u001b[1;33m\u001b[0m\u001b[1;33m\u001b[0m\u001b[0m\n\u001b[0;32m      5\u001b[0m \u001b[1;32mimport\u001b[0m \u001b[0mplotly\u001b[0m\u001b[1;33m.\u001b[0m\u001b[0mgraph_objects\u001b[0m \u001b[1;32mas\u001b[0m \u001b[0mgo\u001b[0m\u001b[1;33m\u001b[0m\u001b[1;33m\u001b[0m\u001b[0m\n",
      "\u001b[1;31mModuleNotFoundError\u001b[0m: No module named 'plotly'"
     ]
    }
   ],
   "source": [
    "import pandas as pd\n",
    "import numpy as np\n",
    "import plotly as plt\n",
    "import plotly.express as px\n",
    "import plotly.graph_objects as go\n",
    "from scipy import stats as st"
   ]
  },
  {
   "cell_type": "code",
   "execution_count": null,
   "metadata": {},
   "outputs": [],
   "source": [
    "df = pd.read_csv('/datasets/games.csv')"
   ]
  },
  {
   "cell_type": "code",
   "execution_count": null,
   "metadata": {
    "scrolled": false
   },
   "outputs": [],
   "source": [
    "print(df.info())\n",
    "display(df.head(10))\n",
    "\n",
    "for col in df.columns: #посчитаем процент пропусков для наглядности\n",
    "    pct_missing = np.mean(df[col].isnull())\n",
    "    print('{} - {}%'.format(col, round(pct_missing*100)))"
   ]
  },
  {
   "cell_type": "markdown",
   "metadata": {},
   "source": [
    "#### Вывод"
   ]
  },
  {
   "cell_type": "markdown",
   "metadata": {},
   "source": [
    "Всего в таблице с информацией об играх 11 столбцов, 6 принадлежат типу float, 5 - object. Названия стобцов некорректны (разный регистр), в данных есть пропуски. Пропуски в данных о рейтинге критиков, пользователей и ассоциации игр могут свидетельствовать о том, что рейтинга игры нет в открытом доступе. Пропуски в данных о годе релиза и названия игры могут быть случайными.\n",
    "\n",
    "Не все типы данных корректны - данные столбца с годом релиза принадлежит типу числа с плавающей точкой (больше подходит целочисленный тип), данные столбца user_score принадлежат категориальному типу(больше подходит тип числа с плавающей точкой).\n"
   ]
  },
  {
   "cell_type": "markdown",
   "metadata": {},
   "source": [
    "### Шаг 2. Подготовка данных"
   ]
  },
  {
   "cell_type": "markdown",
   "metadata": {},
   "source": [
    "#### Замена названий столбцов "
   ]
  },
  {
   "cell_type": "code",
   "execution_count": null,
   "metadata": {},
   "outputs": [],
   "source": [
    "df.columns = df.columns.str.lower() #приведение названий к нижнему регистру\n",
    "df.columns #проверка"
   ]
  },
  {
   "cell_type": "markdown",
   "metadata": {},
   "source": [
    "#### Обработка пропусков и замена типа данных"
   ]
  },
  {
   "cell_type": "code",
   "execution_count": null,
   "metadata": {},
   "outputs": [],
   "source": [
    "df.dropna(subset=['name'], inplace=True) #удаляем пропущенные значения"
   ]
  },
  {
   "cell_type": "code",
   "execution_count": null,
   "metadata": {},
   "outputs": [],
   "source": [
    "df.dropna(subset=['year_of_release'], inplace=True) #удаляем пропущенные значения\n",
    "df['year_of_release'] = df['year_of_release'].astype('int') #меняем тип данных\n"
   ]
  },
  {
   "cell_type": "code",
   "execution_count": null,
   "metadata": {},
   "outputs": [],
   "source": [
    "df.loc[df['user_score']=='tbd','user_score']='NaN' #заменяем значения tbd на NaN\n",
    "df['user_score']=df['user_score'].fillna('NaN') #заменяем nan на NaN, чтобы потом изменить тип данных\n",
    "df['user_score'] = df['user_score'].astype('float') #меняем тип данных"
   ]
  },
  {
   "cell_type": "code",
   "execution_count": null,
   "metadata": {},
   "outputs": [],
   "source": [
    "print('Процент нулевых значений в данных о продажах США: {:.1%}'.format(df.loc[df['na_sales']==0,'na_sales'].count()/len(df['na_sales'])))\n",
    "print('Процент нулевых значений в данных о продажах Европа: {:.1%}'.format(df.loc[df['eu_sales']==0,'eu_sales'].count()/len(df['eu_sales'])))\n",
    "print('Процент нулевых значений в данных о продажах Япония: {:.1%}'.format(df.loc[df['jp_sales']==0,'jp_sales'].count()/len(df['jp_sales'])))\n",
    "print('Процент нулевых значений в данных о продажах другие страны: {:.1%}'.format(df.loc[df['other_sales']==0,'other_sales'].count()/len(df['other_sales'])))\n"
   ]
  },
  {
   "cell_type": "code",
   "execution_count": null,
   "metadata": {},
   "outputs": [],
   "source": [
    "df['general_sales'] = df['na_sales'] + df['eu_sales'] + df['jp_sales'] + df['other_sales']"
   ]
  },
  {
   "cell_type": "code",
   "execution_count": null,
   "metadata": {
    "scrolled": true
   },
   "outputs": [],
   "source": [
    "df.info() #проверка"
   ]
  },
  {
   "cell_type": "markdown",
   "metadata": {},
   "source": [
    "#### Вывод"
   ]
  },
  {
   "cell_type": "markdown",
   "metadata": {},
   "source": [
    "Пропусков в данных с годом релиза немного - всего 2% от всех данных. Они были удалены, т.к.  их отсутствие не должно сильно повлиять на дальнейший анализ. \n",
    "Также были удалены пропуски с названием игры, т.к. их меньше 1%.\n",
    "\n",
    "Значения tbd в данных с рейтингом по сути представляют собой пропущенные значения, поэтому приводим их к NaN.\n",
    "Пропусков в рейтингах очень много - от 40 до 51%. Их не стоит трогать, т.к. их удаление повлияет на все данные. \n",
    "Был изменён тип данных с категориального на float.\n",
    "\n",
    "Также в данных о продажах много нулевых значений - они могут быть связаны как с тем, что в некоторых регионах конкретная игра не продавалась, так и с тем, что в открытом доступе не было соответствующих данных. Их тоже трогать не будем, чтобы не повлиять на весь датасет.\n",
    "\n",
    "Была подсчитана общая сумма продаж в новый столбец - general_sales."
   ]
  },
  {
   "cell_type": "markdown",
   "metadata": {},
   "source": [
    "### Шаг 3. Исследовательский анализ данных"
   ]
  },
  {
   "cell_type": "markdown",
   "metadata": {},
   "source": [
    "#### 1. Сколько игр выпускалось в разные годы"
   ]
  },
  {
   "cell_type": "code",
   "execution_count": null,
   "metadata": {},
   "outputs": [],
   "source": [
    "def hist(data, column, title, x_title, y_title): #функция вывода гистограммы\n",
    "    fig = px.histogram(\n",
    "    data,\n",
    "    x = column,\n",
    "    color_discrete_sequence=['#00CC96'])\n",
    "    fig.update_layout(title = title,\n",
    "                      xaxis_title = x_title,\n",
    "                      yaxis_title = y_title)\n",
    "    print(data[column].describe())\n",
    "    fig.show()"
   ]
  },
  {
   "cell_type": "code",
   "execution_count": null,
   "metadata": {},
   "outputs": [],
   "source": [
    "hist(df, 'year_of_release', 'Распределение количества игр по годам выпуска', \"Год выпуска\", \"Количество игр\")"
   ]
  },
  {
   "cell_type": "markdown",
   "metadata": {},
   "source": [
    "#### Вывод"
   ]
  },
  {
   "cell_type": "markdown",
   "metadata": {},
   "source": [
    "Распределение близко к нормальному. Начиная с 1991 г. количество выпускаемых игр начинает расти, что в целом логично, ведь начинает развиваться индустрия копьютерных игр. Резкий скачок наблюдается в 2002 г. - за год выпускается в 1.7 раза больше игр, чем в предыдущем году. Следующий скачок происходит в 2005 - количество выпускаемых игр растет вплоть до 2008-2009 года (рост выходит на плато) и далее количество выпускаемых игр снижается. Это может быть связано с тем, что игр становится очень много и сейчас многие компании работают не только над выпуском новых, но и над обновлениями старых игр.\n",
    "\n",
    "В связи со снижением значений количества игр имеет смысл рассматривать данные, начиная с 2012-13 года, ведь мы в целом наблюдаем тенденцию к резкому уменьшений количества выпускаемых игр."
   ]
  },
  {
   "cell_type": "markdown",
   "metadata": {},
   "source": [
    "#### 2. Продажи по платформам"
   ]
  },
  {
   "cell_type": "code",
   "execution_count": null,
   "metadata": {},
   "outputs": [],
   "source": [
    "df_piv_platform = df.pivot_table(index='platform',  values ='general_sales', aggfunc = ['sum']).reset_index()\n",
    "df_piv_platform.columns = ['Платформа','Суммарные продажи']\n",
    "df_piv_platform = df_piv_platform.sort_values(by='Суммарные продажи', ascending=False, inplace = False).reset_index(drop=True)\n",
    "display(df_piv_platform)\n",
    "\n",
    "fig = px.histogram(df, x=\"platform\", y=\"general_sales\", histfunc='sum')\n",
    "fig.update_layout(barmode='stack', xaxis={'categoryorder':'total descending'})\n",
    "fig.show()"
   ]
  },
  {
   "cell_type": "markdown",
   "metadata": {},
   "source": [
    "#### Вывод"
   ]
  },
  {
   "cell_type": "markdown",
   "metadata": {},
   "source": [
    "Суммарные продажи большей части платформ превышают 15 млн. Выделяются явные лидеры - продажи платформ PS2, X360, PS3, Wii, DC и PC составили от 727 млн до 123 млн.\n",
    "\n",
    "7 платформ выделяются сравнительно низкими суммами продаж - меньше 2 миллионов. Удалим эти платформы, т.к. их данные могут исказить результаты исследования."
   ]
  },
  {
   "cell_type": "code",
   "execution_count": null,
   "metadata": {},
   "outputs": [],
   "source": [
    "df_platform = df_piv_platform[df_piv_platform[\"Суммарные продажи\"] > 15] \n",
    "platfrom_columns = df_platform['Платформа']\n",
    "df_new = df[df.platform.isin(platfrom_columns)] #создаём новый df с продажами больше 15 млн.\n",
    "\n",
    "new_data = df_new.groupby(['year_of_release','platform'], as_index=False).agg({'name':'count'}) #группируем таблицу по платформе, году релиза и количеству игр\n",
    "                                                                                        "
   ]
  },
  {
   "cell_type": "code",
   "execution_count": null,
   "metadata": {},
   "outputs": [],
   "source": [
    "def line(data, x_column, y_column, color_column, title, x_title, y_title):\n",
    "    fig = px.line(data, x = x_column, y= y_column, color = color_column) #строим линейный график \n",
    "    fig.update_layout(title = title,\n",
    "                      xaxis_title = x_title,\n",
    "                      yaxis_title = y_title)\n",
    "    fig.show()"
   ]
  },
  {
   "cell_type": "code",
   "execution_count": null,
   "metadata": {},
   "outputs": [],
   "source": [
    "line(new_data, 'year_of_release', 'name', 'platform', 'Распределение продаж платформ по годам', 'Год', 'Количество продаж')    \n"
   ]
  },
  {
   "cell_type": "markdown",
   "metadata": {},
   "source": [
    "#### Вывод"
   ]
  },
  {
   "cell_type": "markdown",
   "metadata": {},
   "source": [
    "На графике мы наблюдаем срок существования платформ: часть платформ уже не выпускают игры, по ним мы можем проследить средний срок существования платформы - 10 лет. Меньше всего существовала платформа GB (3 года), больше всего - платформы PC и DC (31, 28 лет). \n",
    "\n",
    "Исходя из полученных данных, чтобы спрогнозировать продажи на 2017 год, мы можем использовать данные, начиная с 2013 г. - в этом году также появляются 2 новые перспективные платформы XOne и PS4 - количество выпускаемых на них игр растёт. Это также соотносится с нашим выводом относительно общего количества выпускаемых игр - в 2012-13 годах по графику мы наблюдали резкое падение.\n",
    "\n",
    "Таким образом, в дальнейшем исследовании будут представлены игры, выпускаемые с 2013 года."
   ]
  },
  {
   "cell_type": "markdown",
   "metadata": {},
   "source": [
    "#### 3. Исследование продаж актуального периода"
   ]
  },
  {
   "cell_type": "code",
   "execution_count": null,
   "metadata": {},
   "outputs": [],
   "source": [
    "df_2017 = df_new.query('year_of_release >= 2013').reset_index(drop=True) #выделяем игры, выпущенные с 2013 г.\n",
    "df_2017.drop(df_2017[df_2017['platform'] == 'DS'].index, inplace=True) #удаляем платформы DS, т.к. в 2013 она прекратила существование"
   ]
  },
  {
   "cell_type": "code",
   "execution_count": null,
   "metadata": {},
   "outputs": [],
   "source": [
    "platform_2017 = df_2017.groupby(['year_of_release','platform'], as_index=False).agg({'general_sales':'sum'})\n",
    "\n",
    "line(platform_2017, 'year_of_release', 'general_sales', 'platform', 'Распределение суммы продаж платформ по годам с 2013', 'Год', 'Сумма продаж')  \n"
   ]
  },
  {
   "cell_type": "markdown",
   "metadata": {},
   "source": [
    "#### Вывод"
   ]
  },
  {
   "cell_type": "markdown",
   "metadata": {},
   "source": [
    "На графике распределения суммы продаж платформ по годам мы можем увидеть лидирующие по продажам платформы: XOne и PS4. Эти платформы находились на пике популярности в 2015 году, сейчас продажи постепенно уменьшаются, но на 2016 г. всё еще остаются высокими. Высокими продажами на 2016 г. также выделяется платформа 3DS.\n",
    "\n",
    "Глобальные продажи оставшихся платформ стремительно снижаются."
   ]
  },
  {
   "cell_type": "markdown",
   "metadata": {},
   "source": [
    "#### 4. Боксплоты по  глобальным продажам"
   ]
  },
  {
   "cell_type": "code",
   "execution_count": null,
   "metadata": {},
   "outputs": [],
   "source": [
    "def box(data, x_column, y_column, title, x_title, y_title): #функция вывода ящика с усами\n",
    "    fig = px.box(data, x=x_column, y=y_column)\n",
    "    fig.update_layout(barmode='stack', title=title, xaxis_title=x_title, yaxis_title=y_title)\n",
    "    fig.show()"
   ]
  },
  {
   "cell_type": "code",
   "execution_count": null,
   "metadata": {},
   "outputs": [],
   "source": [
    "box(df_2017, 'platform', 'general_sales','Глобальные продажи по платформам', 'Продажи', 'Платформы')\n"
   ]
  },
  {
   "cell_type": "markdown",
   "metadata": {},
   "source": [
    "#### Вывод"
   ]
  },
  {
   "cell_type": "markdown",
   "metadata": {},
   "source": [
    "Практически все платформы имеют выбросы в данных, после 5 млн значения очень редки, их можно отрезать для дальнейшего анализа. Самыми высокими медианными значениями по продажам выделяются платформы X360, XOne, PS3, PS4 и WiiU - их можно назвать самыми популярными."
   ]
  },
  {
   "cell_type": "markdown",
   "metadata": {},
   "source": [
    "#### 5. Зависимость продаж от отзывов критиков"
   ]
  },
  {
   "cell_type": "code",
   "execution_count": null,
   "metadata": {},
   "outputs": [],
   "source": [
    "df_PS4 = df_2017.query(\"platform == 'PS4' & general_sales < 5\").reset_index(drop=True)\n",
    "\n",
    "\n",
    "print(\"Корреляция продаж и рейтинга от пользователей и критиков PS4:\")\n",
    "print(df_PS4[['critic_score', 'user_score']].corrwith(df_PS4['general_sales']))\n",
    "columns_score = ['critic_score', 'user_score', 'general_sales']\n",
    "fig = px.scatter_matrix(df_PS4[columns_score], title = 'Диаграмма матрицы рассеивания продаж и рейтинга PS4')\n",
    "fig.show()"
   ]
  },
  {
   "cell_type": "code",
   "execution_count": null,
   "metadata": {},
   "outputs": [],
   "source": [
    "df_other = df_2017.query(\"platform != 'PS4' & general_sales < 5\").reset_index(drop=True)\n",
    "print(\"Корреляция продаж и рейтинга от пользователей и критиков других игр:\")\n",
    "print(df_other[['critic_score', 'user_score']].corrwith(df_other['general_sales']))\n",
    "fig = px.scatter_matrix(df_other[columns_score], title = 'Диаграмма матрицы рассеивания продаж и рейтинга других игр')\n",
    "fig.show()"
   ]
  },
  {
   "cell_type": "markdown",
   "metadata": {},
   "source": [
    "#### Вывод"
   ]
  },
  {
   "cell_type": "markdown",
   "metadata": {},
   "source": [
    "По результатам корреляции Пирсона мы наблюдаем прямую взаимосвязь между оценкой критиков игры PS4 и её продажами. Рейтинг критиков других игр также коррелирует с их продажами, но в меньшей степени. Взаимосвязи между оценкой пользователей и продажами не обнаружена, коэфициент корреляции близок к нулю. Данные выводы иллюстрируются диаграммами на матрице рассеяния."
   ]
  },
  {
   "cell_type": "markdown",
   "metadata": {},
   "source": [
    "#### 6. Распределение игр по жанрам"
   ]
  },
  {
   "cell_type": "code",
   "execution_count": null,
   "metadata": {},
   "outputs": [],
   "source": [
    "fig = px.histogram(\n",
    "df_2017,\n",
    "x = 'genre',\n",
    "color_discrete_sequence=['#00CC96'])\n",
    "fig.update_layout(title = 'Распределение игр по жанру', \n",
    "                  xaxis_title=\"Жанр\",\n",
    "                  yaxis_title=\"Количество игр жанра\",\n",
    "                  xaxis={'categoryorder':'total descending'})\n",
    "print(df_2017['genre'].describe())\n",
    "fig.show()"
   ]
  },
  {
   "cell_type": "code",
   "execution_count": null,
   "metadata": {
    "scrolled": true
   },
   "outputs": [],
   "source": [
    "fig = px.histogram(df_2017, x=\"genre\", y=\"general_sales\", histfunc='sum')\n",
    "fig.update_layout(barmode='stack', xaxis={'categoryorder':'total descending'},\n",
    "                  title = 'Распределение жанров по сумме продаж', \n",
    "                  xaxis_title=\"Жанр\",\n",
    "                  yaxis_title=\"Сумма продаж\")\n",
    "fig.show()"
   ]
  },
  {
   "cell_type": "markdown",
   "metadata": {},
   "source": [
    "#### Вывод"
   ]
  },
  {
   "cell_type": "markdown",
   "metadata": {},
   "source": [
    "Среди количества выпущенных игр особой популярностью выделяется жанр action, он также является самым прибыльным. Также высокую прибыль приносят жанры shooter, sport и role-playing. Жанр adventure также отличается большим количеством выпущенных игр, при том что прибыль от него не высока. Игры жанра simulation, strategy и puzzle выпускаются редко и отличаются низкими продажами."
   ]
  },
  {
   "cell_type": "markdown",
   "metadata": {},
   "source": [
    "### Шаг 4. Составление портрета пользователя каждого региона"
   ]
  },
  {
   "cell_type": "code",
   "execution_count": null,
   "metadata": {},
   "outputs": [],
   "source": [
    "top5_sales_na = df_2017.pivot_table(index='platform',  values ='na_sales', aggfunc ='sum').reset_index().sort_values(by = 'na_sales', ascending=False).head()\n",
    "top5_sales_eu = df_2017.pivot_table(index='platform',  values ='eu_sales', aggfunc ='sum').reset_index().sort_values(by = 'eu_sales', ascending=False).head()\n",
    "top5_sales_jp = df_2017.pivot_table(index='platform',  values ='jp_sales', aggfunc ='sum').reset_index().sort_values(by = 'jp_sales', ascending=False).head()\n"
   ]
  },
  {
   "cell_type": "code",
   "execution_count": null,
   "metadata": {},
   "outputs": [],
   "source": [
    "def pie(dataframe, column_labels, column_values, title): #функция вывода круговой диаграммы\n",
    "    labels = dataframe[column_labels]\n",
    "    values = dataframe[column_values]\n",
    "\n",
    "    fig = go.Figure(data=[go.Pie(labels=labels, values=values, textinfo='label+percent')])\n",
    "    fig.update_layout(title = title)\n",
    "    fig.show()"
   ]
  },
  {
   "cell_type": "code",
   "execution_count": null,
   "metadata": {},
   "outputs": [],
   "source": [
    "pie(top5_sales_na, 'platform', 'na_sales', 'Доля продаж популярных игр в Северной Америке')\n",
    "pie(top5_sales_eu, 'platform', 'eu_sales', 'Доля продаж популярных игр в Европе')\n",
    "pie(top5_sales_jp, 'platform', 'jp_sales', 'Доля продаж популярных игр в Японии')\n",
    "\n"
   ]
  },
  {
   "cell_type": "markdown",
   "metadata": {},
   "source": [
    "#### Вывод"
   ]
  },
  {
   "cell_type": "markdown",
   "metadata": {},
   "source": [
    "Топ 5 платформ в Северной Америке и Европе одинаков - это платформы PS4, PS3, XOne, X360 и 3DS.\n",
    "Самая популярная платформа: PS4, при этом в Европе по доле продаж она занимает 42,2% и является явным лидером. В США она занимает долю в 28,2%. \n",
    "Следующие по популярности платформы в Северной Америке - XOne (24,2%), X360(21,2%), PS3(16,5%), в Европе - PS3(20,3%), XOne(15,4%), X360(12,7%). \n",
    "Закрывает рейтинг платформа 3DS: её доля продаж в Северной Америке 9,92%, а в Европе 9,27%. \n",
    "Рейтинг в Японии отличается. Там самая популярная платформа 3DS (49.6%), далее идут платформы PS3 (17,1), PSV (13,6), PS4(11,7), WiiU(7,97).  \n",
    "Общие популярные платформы в трёх регионах - PS3 и 3DS.\n",
    "\n"
   ]
  },
  {
   "cell_type": "code",
   "execution_count": null,
   "metadata": {},
   "outputs": [],
   "source": [
    "genres_sales_na = df_2017.pivot_table(index='genre',  values ='na_sales', aggfunc ='sum').reset_index().sort_values(by = 'na_sales', ascending=False).head()\n",
    "genres_sales_eu = df_2017.pivot_table(index='genre',  values ='eu_sales', aggfunc ='sum').reset_index().sort_values(by = 'eu_sales', ascending=False).head()\n",
    "genres_sales_jp = df_2017.pivot_table(index='genre',  values ='jp_sales', aggfunc ='sum').reset_index().sort_values(by = 'jp_sales', ascending=False).head()"
   ]
  },
  {
   "cell_type": "code",
   "execution_count": null,
   "metadata": {},
   "outputs": [],
   "source": [
    "pie(genres_sales_na, 'genre', 'na_sales', 'Доли продаж популярных жанров в Северной Америке')\n",
    "pie(genres_sales_eu, 'genre', 'eu_sales', 'Доли продаж популярных жанров в Европе')\n",
    "pie(genres_sales_jp, 'genre', 'jp_sales', 'Доли продаж популярных жанров в Японии')"
   ]
  },
  {
   "cell_type": "markdown",
   "metadata": {},
   "source": [
    "#### Вывод"
   ]
  },
  {
   "cell_type": "markdown",
   "metadata": {},
   "source": [
    "Топ 4 популярных жанров в Европе и Северной Америке сходятся: 1 место занимает жанр action (Северная Америка - 33,6%, Европа - 36,5%), 2 - shooter (Северная Америка - 29,3%, Европа - 27,2%), 3 - sports (Северная Америка - 17,4%, Европа - 18,7%), 4 - role-playing(Северная Америка - 12,4%, Европа - 11,4%). Закрывает рейтинг в Европе жанр racing (6,24%), в Северной Америке - Misc (7,33%).\n",
    "\n",
    "Данные в Японии вновь отличаются. Явные лидеры там жанры Role-Playing(44,4%) и Action(35,2%), т.е. на два этих жанра приходится доля в 79%. Далее следуют жанры Misc(8%), Fighting(6,65%) и shooter(5,75%).\n",
    "\n",
    "Общие популярные жанры 3 регионов; action, shooter, role-playing.\n"
   ]
  },
  {
   "cell_type": "code",
   "execution_count": null,
   "metadata": {},
   "outputs": [],
   "source": [
    "rating_sales = df_2017.pivot_table(index='rating',  values =['na_sales', 'eu_sales', 'jp_sales'], aggfunc ='sum').reset_index()"
   ]
  },
  {
   "cell_type": "code",
   "execution_count": null,
   "metadata": {},
   "outputs": [],
   "source": [
    "pie(rating_sales, 'rating', 'na_sales', 'Доли продаж популярных жанров в Северной Америке')\n",
    "pie(rating_sales, 'rating', 'eu_sales', 'Доли продаж популярных жанров в Европе')\n",
    "pie(rating_sales, 'rating', 'jp_sales', 'Доли продаж популярных жанров в Японии')"
   ]
  },
  {
   "cell_type": "markdown",
   "metadata": {},
   "source": [
    "#### Вывод"
   ]
  },
  {
   "cell_type": "markdown",
   "metadata": {},
   "source": [
    "Распределение долей по рейтингу в Европе и Северной Америке схоже - самым распространённым является рейтинг M - для взрослых (доля в Северной Америке - 47,5 %, в Европе - 46,5%), далее идут рейтинги: E - для всех (22,7% в Северной Америке, 26,5% в Европе), e10 - для детей от 10 лет (15,5% в Северной Америке, 13,6% в Европе), T - для подростков (14,3% в Северной Америке, 13,4% в Европе).\n",
    "\n",
    "В Японии самыми распространёнными являются игры с рейтингом для подростков (36,9%), далее следуют рейтинги: для всех (27,2%), для взрослых (25,3%), для детей от 10 лет (10,6%)."
   ]
  },
  {
   "cell_type": "markdown",
   "metadata": {},
   "source": [
    "### Шаг 5. Проверка гипотез"
   ]
  },
  {
   "cell_type": "markdown",
   "metadata": {},
   "source": [
    "#### 1 гипотеза."
   ]
  },
  {
   "cell_type": "markdown",
   "metadata": {},
   "source": [
    "Нулевая гипотеза - средние пользовательские рейтинги платформ Xbox One и PC одинаковые. Альтернативная гипотеза - средний пользовательские рейтинги платформ Xbox One и PC отличаются."
   ]
  },
  {
   "cell_type": "code",
   "execution_count": null,
   "metadata": {},
   "outputs": [],
   "source": [
    "df_XOne = df_2017.query('platform == \"XOne\" & user_score != \"NaN\"')\n",
    "df_PC = df_2017.query('platform == \"PC\" & user_score != \"NaN\"')\n",
    "\n",
    "\n",
    "variance_XOne = np.var(df_XOne['user_score'], ddof=1)\n",
    "variance_PC = np.var(df_PC['user_score'], ddof=1)\n",
    "\n",
    "print('Дисперсия пользовательского рейтинга XOne', variance_XOne)\n",
    "print('Дисперсия пользовательского рейтинга PC', variance_PC)\n",
    "print('Процент разницы: {:.1%}'.format(1 - variance_XOne/variance_PC))\n",
    "print()\n",
    "\n",
    "alpha = .05\n",
    "\n",
    "results = st.ttest_ind(\n",
    "    df_XOne['user_score'], \n",
    "    df_PC['user_score'],\n",
    "    equal_var = False)\n",
    "\n",
    "print('p-значение:', results.pvalue)\n",
    "\n",
    "if (results.pvalue < alpha):\n",
    "    print(\"Отвергаем нулевую гипотезу\")\n",
    "else:\n",
    "    print(\"Не получилось отвергнуть нулевую гипотезу\") \n",
    "  "
   ]
  },
  {
   "cell_type": "markdown",
   "metadata": {},
   "source": [
    "#### Вывод"
   ]
  },
  {
   "cell_type": "markdown",
   "metadata": {},
   "source": [
    "Гипотеза не отклоняется, можем сделать вывод, что средний пользовательский рейтинг платформы PC вероятно не отличается от среднего рейтинга платформы XOne."
   ]
  },
  {
   "cell_type": "markdown",
   "metadata": {},
   "source": [
    "#### 2 гипотеза."
   ]
  },
  {
   "cell_type": "markdown",
   "metadata": {},
   "source": [
    "Нулевая гипотеза - cредние пользовательские рейтинги жанров Action и Sports одинаковы. Альтернативная - средние пользовательские рейтинги жанров Action и Sports разные."
   ]
  },
  {
   "cell_type": "code",
   "execution_count": null,
   "metadata": {},
   "outputs": [],
   "source": [
    "df_action = df_2017.query('genre == \"Action\" & user_score != \"NaN\"')\n",
    "df_sports = df_2017.query('genre == \"Sports\" & user_score != \"NaN\"')\n",
    "\n",
    "variance_action = np.var(df_action['user_score'], ddof=1)\n",
    "variance_sports = np.var(df_sports['user_score'], ddof=1)\n",
    "\n",
    "print('Дисперсия пользовательского рейтинга XOne', variance_action)\n",
    "print('Дисперсия пользовательского рейтинга PC', variance_sports)\n",
    "print('Процент разницы: {:.1%}'.format(1 - variance_action/variance_sports))\n",
    "print()\n",
    "\n",
    "alpha = .05\n",
    "\n",
    "results = st.ttest_ind(\n",
    "    df_action['user_score'], \n",
    "    df_sports['user_score'],\n",
    "    equal_var = False)\n",
    "\n",
    "print('p-значение:', results.pvalue)\n",
    "\n",
    "if (results.pvalue < alpha):\n",
    "    print(\"Отвергаем нулевую гипотезу\")\n",
    "else:\n",
    "    print(\"Не получилось отвергнуть нулевую гипотезу\") "
   ]
  },
  {
   "cell_type": "markdown",
   "metadata": {},
   "source": [
    "#### Вывод"
   ]
  },
  {
   "cell_type": "markdown",
   "metadata": {},
   "source": [
    "Нулевая гипотеза ложна, её можно отклонить - т.е. средние пользовательские рейтинги жанров Action и Sports разные."
   ]
  },
  {
   "cell_type": "markdown",
   "metadata": {},
   "source": [
    "### Шаг 6. Общий вывод"
   ]
  },
  {
   "cell_type": "markdown",
   "metadata": {},
   "source": [
    "Самыми высокими продажами по данным с 1980 года по 2016 выделяются платформы PS3, X360, PS3, Wii, DC, PC. Средний срок существования платформ – 10 лет.\n",
    "\n",
    "Актуальным для составления прогноза на 2017 год был выбран период с 2013 г., в этом году появились 2 новые перспективные платформы – XOne и PS4.\n",
    "\n",
    "Опираясь на график распределения суммы продаж платформ по годам, мы можем спрогнозировать, что самые высокие продажи в 2017 году принесут платформы XOne, PS4 и 3DS. Популярными также останутся платформы X360, PS3 и WiiU.\n",
    "\n",
    "Прогнозируя продажи, также важно учитывать рейтинг критиков – чем он выше, тем больше сумма продаж.\n",
    "\n",
    "Самый популярный и прибыльный жанр среди игр – action. Также высокими продажами отличаются жанры shooter, sport и role-playing. На высокие продажи жанров simulation, strategy и puzzle можно не рассчитывать. \n",
    "\n",
    "Данные о популярности платформ, жанров и рейтингов в Северной Америке и Европе схожи и отличаются от данных Японии, это следует учитывать при настройке рекламных кампаний.\n",
    "\n",
    "В Северной Америке и Европе самыми популярными являются платформы: PS4, XOne, X360, PS3, 3DS. Общий топ жанров: action, shooter, sports, role-playing. Также популярны жанры Misc в Северной Америке и Racing в Европе. Самый распространённый рейтинг M, далее идут рейтинги E, E10, T.  \n",
    "\n",
    "В Японии самые популярные платформы 3DS, PS3, PSV, PS4, WiiU. Жанры: role-playing, action, misc, fighting, shooter.  Самый распространённый рейтинг T, далее идут рейтинги E, M, E10. \n"
   ]
  }
 ],
 "metadata": {
  "kernelspec": {
   "display_name": "Python 3",
   "language": "python",
   "name": "python3"
  },
  "language_info": {
   "codemirror_mode": {
    "name": "ipython",
    "version": 3
   },
   "file_extension": ".py",
   "mimetype": "text/x-python",
   "name": "python",
   "nbconvert_exporter": "python",
   "pygments_lexer": "ipython3",
   "version": "3.9.1"
  },
  "toc": {
   "base_numbering": 1,
   "nav_menu": {},
   "number_sections": false,
   "sideBar": true,
   "skip_h1_title": false,
   "title_cell": "Table of Contents",
   "title_sidebar": "Contents",
   "toc_cell": false,
   "toc_position": {},
   "toc_section_display": true,
   "toc_window_display": false
  }
 },
 "nbformat": 4,
 "nbformat_minor": 2
}
