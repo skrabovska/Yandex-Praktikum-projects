{
 "cells": [
  {
   "cell_type": "markdown",
   "metadata": {},
   "source": [
    "##  <b>Исследование надёжности заёмщиков:</b> \n",
    "Заказчик — кредитный отдел банка. Нужно разобраться, влияет ли семейное положение и количество детей клиента на факт погашения кредита в срок. Входные данные от банка — статистика о платёжеспособности клиентов.\n",
    "\n",
    "    \n",
    "###  Часть 1. Изучение общей информации\n",
    "\n",
    "    \n",
    "###  Часть 2. Предобработка данных\n",
    "    \n",
    "2.1. Нахождение и ликвидация пропусков\n",
    "\n",
    "2.2. Замена типа данных\n",
    "\n",
    "2.3. Обработка дубликатов\n",
    "\n",
    "2.4. Лемматизация\n",
    "\n",
    "2.5. Категоризация\n",
    "    \n",
    "###  Часть 3. Ответы на вопросы\n",
    "    \n",
    "3.1. Есть ли зависимость между наличием детей и возвратом кредита в срок?\n",
    "\n",
    "3.2. Есть ли зависимость между семейным положением и возвратом кредита в срок?\n",
    "\n",
    "3.3. Есть ли зависимость между уровнем дохода и возвратом кредита в срок?\n",
    "\n",
    "3.4. Как разные цели кредита влияют на его возврат в срок?\n",
    "    \n",
    "### Часть 4. Общий вывод"
   ]
  },
  {
   "cell_type": "markdown",
   "metadata": {},
   "source": [
    "### Шаг 1. Откройте файл с данными и изучите общую информацию. \n",
    "<a id='section1'></a>\n"
   ]
  },
  {
   "cell_type": "code",
   "execution_count": 4,
   "metadata": {
    "scrolled": true
   },
   "outputs": [
    {
     "name": "stdout",
     "output_type": "stream",
     "text": [
      "<class 'pandas.core.frame.DataFrame'>\n",
      "RangeIndex: 21525 entries, 0 to 21524\n",
      "Data columns (total 12 columns):\n",
      "children            21525 non-null int64\n",
      "days_employed       19351 non-null float64\n",
      "dob_years           21525 non-null int64\n",
      "education           21525 non-null object\n",
      "education_id        21525 non-null int64\n",
      "family_status       21525 non-null object\n",
      "family_status_id    21525 non-null int64\n",
      "gender              21525 non-null object\n",
      "income_type         21525 non-null object\n",
      "debt                21525 non-null int64\n",
      "total_income        19351 non-null float64\n",
      "purpose             21525 non-null object\n",
      "dtypes: float64(2), int64(5), object(5)\n",
      "memory usage: 2.0+ MB\n"
     ]
    },
    {
     "data": {
      "text/plain": [
       "None"
      ]
     },
     "metadata": {},
     "output_type": "display_data"
    },
    {
     "data": {
      "text/html": [
       "<div>\n",
       "<style scoped>\n",
       "    .dataframe tbody tr th:only-of-type {\n",
       "        vertical-align: middle;\n",
       "    }\n",
       "\n",
       "    .dataframe tbody tr th {\n",
       "        vertical-align: top;\n",
       "    }\n",
       "\n",
       "    .dataframe thead th {\n",
       "        text-align: right;\n",
       "    }\n",
       "</style>\n",
       "<table border=\"1\" class=\"dataframe\">\n",
       "  <thead>\n",
       "    <tr style=\"text-align: right;\">\n",
       "      <th></th>\n",
       "      <th>children</th>\n",
       "      <th>days_employed</th>\n",
       "      <th>dob_years</th>\n",
       "      <th>education</th>\n",
       "      <th>education_id</th>\n",
       "      <th>family_status</th>\n",
       "      <th>family_status_id</th>\n",
       "      <th>gender</th>\n",
       "      <th>income_type</th>\n",
       "      <th>debt</th>\n",
       "      <th>total_income</th>\n",
       "      <th>purpose</th>\n",
       "    </tr>\n",
       "  </thead>\n",
       "  <tbody>\n",
       "    <tr>\n",
       "      <td>0</td>\n",
       "      <td>1</td>\n",
       "      <td>-8437.673028</td>\n",
       "      <td>42</td>\n",
       "      <td>высшее</td>\n",
       "      <td>0</td>\n",
       "      <td>женат / замужем</td>\n",
       "      <td>0</td>\n",
       "      <td>F</td>\n",
       "      <td>сотрудник</td>\n",
       "      <td>0</td>\n",
       "      <td>253875.639453</td>\n",
       "      <td>покупка жилья</td>\n",
       "    </tr>\n",
       "    <tr>\n",
       "      <td>1</td>\n",
       "      <td>1</td>\n",
       "      <td>-4024.803754</td>\n",
       "      <td>36</td>\n",
       "      <td>среднее</td>\n",
       "      <td>1</td>\n",
       "      <td>женат / замужем</td>\n",
       "      <td>0</td>\n",
       "      <td>F</td>\n",
       "      <td>сотрудник</td>\n",
       "      <td>0</td>\n",
       "      <td>112080.014102</td>\n",
       "      <td>приобретение автомобиля</td>\n",
       "    </tr>\n",
       "    <tr>\n",
       "      <td>2</td>\n",
       "      <td>0</td>\n",
       "      <td>-5623.422610</td>\n",
       "      <td>33</td>\n",
       "      <td>Среднее</td>\n",
       "      <td>1</td>\n",
       "      <td>женат / замужем</td>\n",
       "      <td>0</td>\n",
       "      <td>M</td>\n",
       "      <td>сотрудник</td>\n",
       "      <td>0</td>\n",
       "      <td>145885.952297</td>\n",
       "      <td>покупка жилья</td>\n",
       "    </tr>\n",
       "    <tr>\n",
       "      <td>3</td>\n",
       "      <td>3</td>\n",
       "      <td>-4124.747207</td>\n",
       "      <td>32</td>\n",
       "      <td>среднее</td>\n",
       "      <td>1</td>\n",
       "      <td>женат / замужем</td>\n",
       "      <td>0</td>\n",
       "      <td>M</td>\n",
       "      <td>сотрудник</td>\n",
       "      <td>0</td>\n",
       "      <td>267628.550329</td>\n",
       "      <td>дополнительное образование</td>\n",
       "    </tr>\n",
       "    <tr>\n",
       "      <td>4</td>\n",
       "      <td>0</td>\n",
       "      <td>340266.072047</td>\n",
       "      <td>53</td>\n",
       "      <td>среднее</td>\n",
       "      <td>1</td>\n",
       "      <td>гражданский брак</td>\n",
       "      <td>1</td>\n",
       "      <td>F</td>\n",
       "      <td>пенсионер</td>\n",
       "      <td>0</td>\n",
       "      <td>158616.077870</td>\n",
       "      <td>сыграть свадьбу</td>\n",
       "    </tr>\n",
       "    <tr>\n",
       "      <td>5</td>\n",
       "      <td>0</td>\n",
       "      <td>-926.185831</td>\n",
       "      <td>27</td>\n",
       "      <td>высшее</td>\n",
       "      <td>0</td>\n",
       "      <td>гражданский брак</td>\n",
       "      <td>1</td>\n",
       "      <td>M</td>\n",
       "      <td>компаньон</td>\n",
       "      <td>0</td>\n",
       "      <td>255763.565419</td>\n",
       "      <td>покупка жилья</td>\n",
       "    </tr>\n",
       "    <tr>\n",
       "      <td>6</td>\n",
       "      <td>0</td>\n",
       "      <td>-2879.202052</td>\n",
       "      <td>43</td>\n",
       "      <td>высшее</td>\n",
       "      <td>0</td>\n",
       "      <td>женат / замужем</td>\n",
       "      <td>0</td>\n",
       "      <td>F</td>\n",
       "      <td>компаньон</td>\n",
       "      <td>0</td>\n",
       "      <td>240525.971920</td>\n",
       "      <td>операции с жильем</td>\n",
       "    </tr>\n",
       "    <tr>\n",
       "      <td>7</td>\n",
       "      <td>0</td>\n",
       "      <td>-152.779569</td>\n",
       "      <td>50</td>\n",
       "      <td>СРЕДНЕЕ</td>\n",
       "      <td>1</td>\n",
       "      <td>женат / замужем</td>\n",
       "      <td>0</td>\n",
       "      <td>M</td>\n",
       "      <td>сотрудник</td>\n",
       "      <td>0</td>\n",
       "      <td>135823.934197</td>\n",
       "      <td>образование</td>\n",
       "    </tr>\n",
       "    <tr>\n",
       "      <td>8</td>\n",
       "      <td>2</td>\n",
       "      <td>-6929.865299</td>\n",
       "      <td>35</td>\n",
       "      <td>ВЫСШЕЕ</td>\n",
       "      <td>0</td>\n",
       "      <td>гражданский брак</td>\n",
       "      <td>1</td>\n",
       "      <td>F</td>\n",
       "      <td>сотрудник</td>\n",
       "      <td>0</td>\n",
       "      <td>95856.832424</td>\n",
       "      <td>на проведение свадьбы</td>\n",
       "    </tr>\n",
       "    <tr>\n",
       "      <td>9</td>\n",
       "      <td>0</td>\n",
       "      <td>-2188.756445</td>\n",
       "      <td>41</td>\n",
       "      <td>среднее</td>\n",
       "      <td>1</td>\n",
       "      <td>женат / замужем</td>\n",
       "      <td>0</td>\n",
       "      <td>M</td>\n",
       "      <td>сотрудник</td>\n",
       "      <td>0</td>\n",
       "      <td>144425.938277</td>\n",
       "      <td>покупка жилья для семьи</td>\n",
       "    </tr>\n",
       "  </tbody>\n",
       "</table>\n",
       "</div>"
      ],
      "text/plain": [
       "   children  days_employed  dob_years education  education_id  \\\n",
       "0         1   -8437.673028         42    высшее             0   \n",
       "1         1   -4024.803754         36   среднее             1   \n",
       "2         0   -5623.422610         33   Среднее             1   \n",
       "3         3   -4124.747207         32   среднее             1   \n",
       "4         0  340266.072047         53   среднее             1   \n",
       "5         0    -926.185831         27    высшее             0   \n",
       "6         0   -2879.202052         43    высшее             0   \n",
       "7         0    -152.779569         50   СРЕДНЕЕ             1   \n",
       "8         2   -6929.865299         35    ВЫСШЕЕ             0   \n",
       "9         0   -2188.756445         41   среднее             1   \n",
       "\n",
       "      family_status  family_status_id gender income_type  debt   total_income  \\\n",
       "0   женат / замужем                 0      F   сотрудник     0  253875.639453   \n",
       "1   женат / замужем                 0      F   сотрудник     0  112080.014102   \n",
       "2   женат / замужем                 0      M   сотрудник     0  145885.952297   \n",
       "3   женат / замужем                 0      M   сотрудник     0  267628.550329   \n",
       "4  гражданский брак                 1      F   пенсионер     0  158616.077870   \n",
       "5  гражданский брак                 1      M   компаньон     0  255763.565419   \n",
       "6   женат / замужем                 0      F   компаньон     0  240525.971920   \n",
       "7   женат / замужем                 0      M   сотрудник     0  135823.934197   \n",
       "8  гражданский брак                 1      F   сотрудник     0   95856.832424   \n",
       "9   женат / замужем                 0      M   сотрудник     0  144425.938277   \n",
       "\n",
       "                      purpose  \n",
       "0               покупка жилья  \n",
       "1     приобретение автомобиля  \n",
       "2               покупка жилья  \n",
       "3  дополнительное образование  \n",
       "4             сыграть свадьбу  \n",
       "5               покупка жилья  \n",
       "6           операции с жильем  \n",
       "7                 образование  \n",
       "8       на проведение свадьбы  \n",
       "9     покупка жилья для семьи  "
      ]
     },
     "metadata": {},
     "output_type": "display_data"
    }
   ],
   "source": [
    "import pandas as pd\n",
    "df = pd.read_csv('/datasets/data.csv')\n",
    "\n",
    "display(df.info())\n",
    "display(df.head(10))"
   ]
  },
  {
   "cell_type": "markdown",
   "metadata": {},
   "source": [
    "### Вывод"
   ]
  },
  {
   "cell_type": "markdown",
   "metadata": {},
   "source": [
    "Всего в таблице 12 столбцов, 2 столбца принадлежат типу float, 5 - int, 5 - object.\n",
    "Каждая строка таблицы содержит информацию о клиентах банка. Названия столбцов корректны. \n",
    "В ячейках сразу обнаруживаются некорректные данные: отрицательные значение в столбце days_employed, разные регистры строк столбца education. Но для исследования зависимости возврата кредита в срок от информации о наличии детей, семейного положения, уровня дохода и цели кредита клиента данные из этих столбцов не потребуются, поэтому на дальнейшую обработку пройдут столбцы children, family_status, family_status_id, dept, total_income, purpose. \n"
   ]
  },
  {
   "cell_type": "markdown",
   "metadata": {},
   "source": [
    "### Шаг 2. Предобработка данных\n",
    "<a id='section2'></a>"
   ]
  },
  {
   "cell_type": "markdown",
   "metadata": {},
   "source": [
    "### Обработка пропусков\n",
    "<a id='section3'></a>"
   ]
  },
  {
   "cell_type": "code",
   "execution_count": 2,
   "metadata": {},
   "outputs": [
    {
     "data": {
      "text/plain": [
       "children               0\n",
       "days_employed       2174\n",
       "dob_years              0\n",
       "education              0\n",
       "education_id           0\n",
       "family_status          0\n",
       "family_status_id       0\n",
       "gender                 0\n",
       "income_type            0\n",
       "debt                   0\n",
       "total_income        2174\n",
       "purpose                0\n",
       "dtype: int64"
      ]
     },
     "metadata": {},
     "output_type": "display_data"
    },
    {
     "data": {
      "text/plain": [
       "children               0\n",
       "days_employed       2174\n",
       "dob_years              0\n",
       "education              0\n",
       "education_id           0\n",
       "family_status          0\n",
       "family_status_id       0\n",
       "gender                 0\n",
       "income_type            0\n",
       "debt                   0\n",
       "total_income           0\n",
       "purpose                0\n",
       "dtype: int64"
      ]
     },
     "metadata": {},
     "output_type": "display_data"
    }
   ],
   "source": [
    "display(df.isnull().sum()) #суммируем пропущенные значения в данных\n",
    "df.loc[df['total_income'].isna(), 'total_income'] = df['total_income'].median() #заполняем пропущенные значения медианой\n",
    "display(df.isnull().sum()) #проверка\n"
   ]
  },
  {
   "cell_type": "markdown",
   "metadata": {},
   "source": [
    "### Вывод"
   ]
  },
  {
   "cell_type": "markdown",
   "metadata": {},
   "source": [
    "На этапе предобработки в данных обнаружились пропуски в столбца total_income и days_employed.\n",
    "Значения в total_income - количественные и отражают уровень заработной платы. Это важный фактор для получения кредита, по всей вероятности данные могли потеряться при выгрузке, а не пропущены при сборе данных.\n",
    "Т.к. в подобных данных зачастую встречаются выбросы, которые могут повлиять на среднее значение, заменим пропуски не им, а медианой.\n",
    "Столбец days_employed не потребуется в дальнейшем анализе, поэтому его не обрабатываем. "
   ]
  },
  {
   "cell_type": "markdown",
   "metadata": {},
   "source": [
    "### Замена типа данных\n",
    "<a id='section4'></a>"
   ]
  },
  {
   "cell_type": "code",
   "execution_count": 3,
   "metadata": {},
   "outputs": [],
   "source": [
    "df['total_income'] = df['total_income'].astype('int')\n"
   ]
  },
  {
   "cell_type": "markdown",
   "metadata": {},
   "source": [
    "### Вывод"
   ]
  },
  {
   "cell_type": "markdown",
   "metadata": {},
   "source": [
    "Данные столбца total_income имеют тип float. Для анализа заработной планы удобнее будет работать с целочисленными переменными, значения после точки не должны оказать значительного влияния на результаты, поэтому переведём тип методом astype."
   ]
  },
  {
   "cell_type": "markdown",
   "metadata": {},
   "source": [
    "### Обработка дубликатов\n",
    "<a id='section5'></a>"
   ]
  },
  {
   "cell_type": "code",
   "execution_count": 4,
   "metadata": {},
   "outputs": [
    {
     "data": {
      "text/plain": [
       "'Количество дубликатов до:'"
      ]
     },
     "metadata": {},
     "output_type": "display_data"
    },
    {
     "data": {
      "text/plain": [
       "71"
      ]
     },
     "metadata": {},
     "output_type": "display_data"
    },
    {
     "data": {
      "text/plain": [
       "'Количество дубликатов после:'"
      ]
     },
     "metadata": {},
     "output_type": "display_data"
    },
    {
     "data": {
      "text/plain": [
       "0"
      ]
     },
     "metadata": {},
     "output_type": "display_data"
    }
   ],
   "source": [
    "\n",
    "df['education'] = df['education'].str.lower() #приводим данные в столбце education к нижнему регистру\n",
    "\n",
    "display('Количество дубликатов до:', df.duplicated().sum())\n",
    "df[df.duplicated(keep = False)].sort_values(by = df.columns.values.tolist())\n",
    "df = df.drop_duplicates().reset_index(drop = True) #удаляем дубликаты, корректируя индексы столбцов\n",
    "display('Количество дубликатов после:', df.duplicated().sum())\n"
   ]
  },
  {
   "cell_type": "markdown",
   "metadata": {},
   "source": [
    "### Вывод"
   ]
  },
  {
   "cell_type": "markdown",
   "metadata": {},
   "source": [
    "Применяя метод duplicated() обнаруживаем полные дубликаты в таблице(их меньше 1%, возможно, некоторые строки были повторно занесены в таблицу по случайности), удаляем их методом drop_duplicates() и проверяем результат."
   ]
  },
  {
   "cell_type": "markdown",
   "metadata": {},
   "source": [
    "### Лемматизация\n",
    "<a id='section6'></a>"
   ]
  },
  {
   "cell_type": "code",
   "execution_count": 5,
   "metadata": {},
   "outputs": [
    {
     "data": {
      "text/plain": [
       "Counter({'покупка': 5897,\n",
       "         ' ': 33570,\n",
       "         'жилье': 4460,\n",
       "         '\\n': 21454,\n",
       "         'приобретение': 461,\n",
       "         'автомобиль': 4306,\n",
       "         'дополнительный': 906,\n",
       "         'образование': 4013,\n",
       "         'сыграть': 765,\n",
       "         'свадьба': 2324,\n",
       "         'операция': 2604,\n",
       "         'с': 2918,\n",
       "         'на': 2222,\n",
       "         'проведение': 768,\n",
       "         'для': 1289,\n",
       "         'семья': 638,\n",
       "         'недвижимость': 6351,\n",
       "         'коммерческий': 1311,\n",
       "         'жилой': 1230,\n",
       "         'строительство': 1878,\n",
       "         'собственный': 635,\n",
       "         'подержать': 478,\n",
       "         'свой': 2230,\n",
       "         'со': 627,\n",
       "         'заниматься': 904,\n",
       "         'сделка': 941,\n",
       "         'подержанный': 486,\n",
       "         'получение': 1314,\n",
       "         'высокий': 1374,\n",
       "         'профильный': 436,\n",
       "         'сдача': 651,\n",
       "         'ремонт': 607})"
      ]
     },
     "metadata": {},
     "output_type": "display_data"
    }
   ],
   "source": [
    "from pymystem3 import Mystem \n",
    "m = Mystem()\n",
    "\n",
    "def word_lemmatize(text): #вводим функцию лемматизации\n",
    "    for i in text:\n",
    "        lem_text = m.lemmatize(text)\n",
    "        return lem_text\n",
    "df['purpoze_lemmatize'] = df['purpose'].apply(word_lemmatize) #применяем функцию к столбцу и создаём новый столбец\n",
    "\n",
    "\n",
    "from collections import Counter #подсчитываем число упоминаний лемм в тексте\n",
    "display(Counter(df['purpoze_lemmatize'].sum())) \n"
   ]
  },
  {
   "cell_type": "markdown",
   "metadata": {},
   "source": [
    "### Вывод"
   ]
  },
  {
   "cell_type": "markdown",
   "metadata": {},
   "source": [
    "С помощью библиотеки pymystem3 в элементах столбца с целями кредита были выделены леммы и добавлены в новый столбец датасета, который будет использован в последующей работе над категоризацией. Также с помощью счётчика подсчитаем встречаемость лемм. "
   ]
  },
  {
   "cell_type": "markdown",
   "metadata": {},
   "source": [
    "### Категоризация данных\n",
    "<a id='section7'></a>"
   ]
  },
  {
   "cell_type": "code",
   "execution_count": 6,
   "metadata": {},
   "outputs": [],
   "source": [
    "income_median = df['total_income'].median()\n",
    "def total_income_group(row):\n",
    "    total_income = row['total_income']\n",
    "    \n",
    "    if total_income <= income_median/2:\n",
    "        return 'ниже среднего'\n",
    "    if total_income < income_median + income_median/2:\n",
    "        return 'средний'\n",
    "    return 'выше среднего'\n",
    "df['total_income_group'] = df.apply(total_income_group, axis = 1)\n",
    "\n",
    "\n",
    "def children_amount_group(row):\n",
    "    children_amount = row['children']\n",
    "    \n",
    "    if children_amount < 1:\n",
    "        return 'бездетный(ая)'\n",
    "    if children_amount <= 2:\n",
    "        return '1-2 ребенка'\n",
    "    if children_amount >=3:\n",
    "        return 'многодетный(ая)'\n",
    "    \n",
    "df['children_amount'] = df.apply(children_amount_group, axis = 1)\n",
    "\n",
    "\n",
    "def purpose_group(row):\n",
    "    purpose = row['purpoze_lemmatize']\n",
    "    \n",
    "    if 'автомобиль' in purpose:\n",
    "        return 'автокредит'\n",
    "    if 'свадьба' in purpose:\n",
    "        return 'кредит на свадьбу'\n",
    "    if 'недвижимость' in purpose or 'жилье' in purpose and 'ремонт' not in purpose:\n",
    "        return 'кредит на покупку недвижимости'\n",
    "    if 'образование' in purpose:\n",
    "        return 'кредит на получение образования'\n",
    "    if 'ремонт' in purpose:\n",
    "        return 'кредит на ремонт'\n",
    "    \n",
    "df['purpose_group'] = df.apply(purpose_group, axis = 1)\n",
    "\n",
    "def age_group(row):\n",
    "    age = row['dob_years']\n",
    "    if age < 45:\n",
    "        return 'молодой возраст'\n",
    "    if age < 60:\n",
    "        return 'средний возраст'\n",
    "    return 'пожилой возраст'\n",
    "\n",
    "df['age_group'] = df.apply(age_group, axis = 1)\n",
    "\n",
    "df['family_status'] = df['family_status'].str.lower()\n",
    "family_status_categories = df.loc[:, 'family_status':'family_status_id']\n",
    "family_status_categories = family_status_categories.drop_duplicates().reset_index(drop=True)\n"
   ]
  },
  {
   "cell_type": "markdown",
   "metadata": {},
   "source": [
    "### Вывод"
   ]
  },
  {
   "cell_type": "markdown",
   "metadata": {},
   "source": [
    "Данные столбца total_income категоризированы по величине дохода (ниже среднего, средний и выше среднего), выделяю их относительно медианы скорее интуитивно, т.к. надо бы применить методы описательной статистики, которыми пока в достаточной степени не владею, надеюсь, это не фатальная ошибка.\n",
    "В данных о количестве детей клиента банка были выделены бездетные, многодетные и имеющие 1-2 детей.\n",
    "Данные о целях кредита категоризованы по леммам, было выделено 5 категорий: автокредит, кредит на свадьбу, кредит на покупку недвижимости, кредит на получение образования, кредит на ремонт.\n",
    "Также категоризированы данные по возрасту, в соответствии с классификацией ВОЗ и разделены на молодой, средний и пожилой возраст. \n",
    "В столбце family_status снижен регистр и выделены категории семейного положения."
   ]
  },
  {
   "cell_type": "markdown",
   "metadata": {},
   "source": [
    "### Шаг 3. Ответьте на вопросы\n",
    "<a id='section8'></a>"
   ]
  },
  {
   "cell_type": "markdown",
   "metadata": {},
   "source": [
    "- Есть ли зависимость между наличием детей и возвратом кредита в срок?\n",
    "<a id='section9'></a>"
   ]
  },
  {
   "cell_type": "code",
   "execution_count": 7,
   "metadata": {},
   "outputs": [
    {
     "name": "stdout",
     "output_type": "stream",
     "text": [
      "children_amount\n",
      "1-2 ребенка        0.093003\n",
      "бездетный(ая)      0.075258\n",
      "многодетный(ая)    0.085526\n",
      "Name: debt, dtype: float64\n"
     ]
    }
   ],
   "source": [
    "children_amount_count = df.groupby('children_amount')['debt'].count() #группируем таблицу по кол-ву детей, считаем кол-во заемщиков\n",
    "children_amount_sum = df.groupby('children_amount')['debt'].sum() #группируем таблицу по кол-ву детей, суммируем число должников\n",
    "children_amount_proportion = children_amount_sum / children_amount_count #доля должников относительно общего числа заемщиков\n",
    "print(children_amount_proportion)\n",
    "\n"
   ]
  },
  {
   "cell_type": "markdown",
   "metadata": {},
   "source": [
    "### Вывод"
   ]
  },
  {
   "cell_type": "markdown",
   "metadata": {},
   "source": [
    "Доля задержавших возврат кредита среди клентов банка с 1-2 детьми выше, чем среди бездетных и многодетных. Могу предположить, что это связано с положением молодой семьи, у которой сейчас должно быть относительно много расходов, которые могут повлиять на невозможность оплатить кредит в срок."
   ]
  },
  {
   "cell_type": "markdown",
   "metadata": {},
   "source": [
    "- Есть ли зависимость между семейным положением и возвратом кредита в срок?\n",
    "<a id='section10'></a>"
   ]
  },
  {
   "cell_type": "code",
   "execution_count": 8,
   "metadata": {},
   "outputs": [
    {
     "data": {
      "text/plain": [
       "family_status\n",
       "в разводе                0.071130\n",
       "вдовец / вдова           0.065693\n",
       "гражданский брак         0.093471\n",
       "женат / замужем          0.075452\n",
       "не женат / не замужем    0.097509\n",
       "Name: debt, dtype: float64"
      ]
     },
     "metadata": {},
     "output_type": "display_data"
    },
    {
     "data": {
      "text/html": [
       "<div>\n",
       "<style scoped>\n",
       "    .dataframe tbody tr th:only-of-type {\n",
       "        vertical-align: middle;\n",
       "    }\n",
       "\n",
       "    .dataframe tbody tr th {\n",
       "        vertical-align: top;\n",
       "    }\n",
       "\n",
       "    .dataframe thead tr th {\n",
       "        text-align: left;\n",
       "    }\n",
       "\n",
       "    .dataframe thead tr:last-of-type th {\n",
       "        text-align: right;\n",
       "    }\n",
       "</style>\n",
       "<table border=\"1\" class=\"dataframe\">\n",
       "  <thead>\n",
       "    <tr>\n",
       "      <th></th>\n",
       "      <th colspan=\"3\" halign=\"left\">count</th>\n",
       "    </tr>\n",
       "    <tr>\n",
       "      <th>age_group</th>\n",
       "      <th>молодой возраст</th>\n",
       "      <th>пожилой возраст</th>\n",
       "      <th>средний возраст</th>\n",
       "    </tr>\n",
       "    <tr>\n",
       "      <th>family_status</th>\n",
       "      <th></th>\n",
       "      <th></th>\n",
       "      <th></th>\n",
       "    </tr>\n",
       "  </thead>\n",
       "  <tbody>\n",
       "    <tr>\n",
       "      <td>в разводе</td>\n",
       "      <td>557</td>\n",
       "      <td>155</td>\n",
       "      <td>483</td>\n",
       "    </tr>\n",
       "    <tr>\n",
       "      <td>вдовец / вдова</td>\n",
       "      <td>103</td>\n",
       "      <td>402</td>\n",
       "      <td>454</td>\n",
       "    </tr>\n",
       "    <tr>\n",
       "      <td>гражданский брак</td>\n",
       "      <td>2460</td>\n",
       "      <td>394</td>\n",
       "      <td>1297</td>\n",
       "    </tr>\n",
       "    <tr>\n",
       "      <td>женат / замужем</td>\n",
       "      <td>6774</td>\n",
       "      <td>1309</td>\n",
       "      <td>4256</td>\n",
       "    </tr>\n",
       "    <tr>\n",
       "      <td>не женат / не замужем</td>\n",
       "      <td>1914</td>\n",
       "      <td>240</td>\n",
       "      <td>656</td>\n",
       "    </tr>\n",
       "  </tbody>\n",
       "</table>\n",
       "</div>"
      ],
      "text/plain": [
       "                                count                                \n",
       "age_group             молодой возраст пожилой возраст средний возраст\n",
       "family_status                                                        \n",
       "в разводе                         557             155             483\n",
       "вдовец / вдова                    103             402             454\n",
       "гражданский брак                 2460             394            1297\n",
       "женат / замужем                  6774            1309            4256\n",
       "не женат / не замужем            1914             240             656"
      ]
     },
     "metadata": {},
     "output_type": "display_data"
    }
   ],
   "source": [
    "family_status_count = df.groupby('family_status')['debt'].count()\n",
    "family_status_sum = df.groupby('family_status')['debt'].sum()\n",
    "family_status_proportion = family_status_sum / family_status_count\n",
    "display(family_status_proportion)\n",
    "\n",
    "\n",
    "data_pivot = df.pivot_table(index=['family_status'], columns = 'age_group', values ='debt', aggfunc = ['count'])\n",
    "display(data_pivot)"
   ]
  },
  {
   "cell_type": "markdown",
   "metadata": {},
   "source": [
    "### Вывод"
   ]
  },
  {
   "cell_type": "markdown",
   "metadata": {},
   "source": [
    "Ананилизируем по тому же принципу. Среди должников на первые позиции вышли не женатые/замужние клиенты банка и те, кто состоит в гражданском браке. Возможно люди из данных позиций обладают меньшей социальной ответственностью, нежели люди из других категорий. Также можно предположить, что данные клиенты моложе, это гипотезу проверим в сводной таблице. Действительно, большинство не женатых\\замужних и состоящих в гражданском браке относятся к молодому возрасту, поэтому эти факторы могут быть взаимосвязаны. "
   ]
  },
  {
   "cell_type": "markdown",
   "metadata": {},
   "source": [
    "- Есть ли зависимость между уровнем дохода и возвратом кредита в срок?\n",
    "<a id='section11'></a>"
   ]
  },
  {
   "cell_type": "code",
   "execution_count": 9,
   "metadata": {},
   "outputs": [
    {
     "data": {
      "text/plain": [
       "total_income_group\n",
       "выше среднего    0.071065\n",
       "ниже среднего    0.069235\n",
       "средний          0.085067\n",
       "Name: debt, dtype: float64"
      ]
     },
     "metadata": {},
     "output_type": "display_data"
    }
   ],
   "source": [
    "total_income_count = df.groupby('total_income_group')['debt'].count()\n",
    "total_income_sum = df.groupby('total_income_group')['debt'].sum()\n",
    "total_income_proportion = total_income_sum / total_income_count\n",
    "\n",
    "display(total_income_proportion)"
   ]
  },
  {
   "cell_type": "markdown",
   "metadata": {},
   "source": [
    "### Вывод"
   ]
  },
  {
   "cell_type": "markdown",
   "metadata": {},
   "source": [
    "Полученные данные свидетельствуют о том, что люди со средним доходом чаще других склонны задерживать оплату по кредиту, но разница между другими категориями незначительна."
   ]
  },
  {
   "cell_type": "markdown",
   "metadata": {},
   "source": [
    "- Как разные цели кредита влияют на его возврат в срок?\n",
    "<a id='section12'></a>"
   ]
  },
  {
   "cell_type": "code",
   "execution_count": 10,
   "metadata": {},
   "outputs": [
    {
     "data": {
      "text/plain": [
       "purpose_group\n",
       "автокредит                         0.093590\n",
       "кредит на покупку недвижимости     0.073207\n",
       "кредит на получение образования    0.092200\n",
       "кредит на ремонт                   0.057661\n",
       "кредит на свадьбу                  0.080034\n",
       "Name: debt, dtype: float64"
      ]
     },
     "metadata": {},
     "output_type": "display_data"
    },
    {
     "data": {
      "text/html": [
       "<div>\n",
       "<style scoped>\n",
       "    .dataframe tbody tr th:only-of-type {\n",
       "        vertical-align: middle;\n",
       "    }\n",
       "\n",
       "    .dataframe tbody tr th {\n",
       "        vertical-align: top;\n",
       "    }\n",
       "\n",
       "    .dataframe thead tr th {\n",
       "        text-align: left;\n",
       "    }\n",
       "\n",
       "    .dataframe thead tr:last-of-type th {\n",
       "        text-align: right;\n",
       "    }\n",
       "</style>\n",
       "<table border=\"1\" class=\"dataframe\">\n",
       "  <thead>\n",
       "    <tr>\n",
       "      <th></th>\n",
       "      <th colspan=\"3\" halign=\"left\">count</th>\n",
       "    </tr>\n",
       "    <tr>\n",
       "      <th>age_group</th>\n",
       "      <th>молодой возраст</th>\n",
       "      <th>пожилой возраст</th>\n",
       "      <th>средний возраст</th>\n",
       "    </tr>\n",
       "    <tr>\n",
       "      <th>purpose_group</th>\n",
       "      <th></th>\n",
       "      <th></th>\n",
       "      <th></th>\n",
       "    </tr>\n",
       "  </thead>\n",
       "  <tbody>\n",
       "    <tr>\n",
       "      <td>автокредит</td>\n",
       "      <td>2352</td>\n",
       "      <td>523</td>\n",
       "      <td>1431</td>\n",
       "    </tr>\n",
       "    <tr>\n",
       "      <td>кредит на покупку недвижимости</td>\n",
       "      <td>5611</td>\n",
       "      <td>1161</td>\n",
       "      <td>3432</td>\n",
       "    </tr>\n",
       "    <tr>\n",
       "      <td>кредит на получение образования</td>\n",
       "      <td>2207</td>\n",
       "      <td>479</td>\n",
       "      <td>1327</td>\n",
       "    </tr>\n",
       "    <tr>\n",
       "      <td>кредит на ремонт</td>\n",
       "      <td>351</td>\n",
       "      <td>70</td>\n",
       "      <td>186</td>\n",
       "    </tr>\n",
       "    <tr>\n",
       "      <td>кредит на свадьбу</td>\n",
       "      <td>1287</td>\n",
       "      <td>267</td>\n",
       "      <td>770</td>\n",
       "    </tr>\n",
       "  </tbody>\n",
       "</table>\n",
       "</div>"
      ],
      "text/plain": [
       "                                          count                  \\\n",
       "age_group                       молодой возраст пожилой возраст   \n",
       "purpose_group                                                     \n",
       "автокредит                                 2352             523   \n",
       "кредит на покупку недвижимости             5611            1161   \n",
       "кредит на получение образования            2207             479   \n",
       "кредит на ремонт                            351              70   \n",
       "кредит на свадьбу                          1287             267   \n",
       "\n",
       "                                                 \n",
       "age_group                       средний возраст  \n",
       "purpose_group                                    \n",
       "автокредит                                 1431  \n",
       "кредит на покупку недвижимости             3432  \n",
       "кредит на получение образования            1327  \n",
       "кредит на ремонт                            186  \n",
       "кредит на свадьбу                           770  "
      ]
     },
     "metadata": {},
     "output_type": "display_data"
    }
   ],
   "source": [
    "purpose_group_count = df.groupby('purpose_group')['debt'].count()\n",
    "purpose_group_sum = df.groupby('purpose_group')['debt'].sum()\n",
    "purpose_group_proportion = purpose_group_sum / purpose_group_count\n",
    "display(purpose_group_proportion)\n",
    "\n",
    "data_pivot = df.pivot_table(index=['purpose_group'], columns = 'age_group', values ='debt', aggfunc = ['count'])\n",
    "display(data_pivot)"
   ]
  },
  {
   "cell_type": "markdown",
   "metadata": {},
   "source": [
    "### Вывод"
   ]
  },
  {
   "cell_type": "markdown",
   "metadata": {},
   "source": [
    "Чаще всего оплату задерживают люди, взявшие кредит на автомобиль и образование. Также связываем эти данные с возрастом клиентов банка и наблюдаем, что большая часть клиентов принадлежит группе молодых. Данна категория людей может обладать более низкой финансовой грамотностью, в силу опыта, поэтому, возможно, они и задерживают выплату по кредиту.\n",
    "Самый низкий процент наблюдается среди задолжности на ремонт, это может быть связано с меньшей суммой займа в сравнении с другими категориями."
   ]
  },
  {
   "cell_type": "markdown",
   "metadata": {},
   "source": [
    "### Шаг 4. Общий вывод\n",
    "<a id='section13'></a>"
   ]
  },
  {
   "cell_type": "markdown",
   "metadata": {},
   "source": [
    "Большая часть клиентов банка, задержавших оплату по кредиту, состоят в гражданском браке и/или не женаты(замужем), имеют 1-2 детей, имеют средний доход и берут кредит на автомобиль или получение образования. Большинство людей из данных категорий также относятся к молодой возрастной группе, в которой может наблюдатся более низкая финансовая грамотность и ответственность.\n",
    "Самыми надежными клиентами являются люди, которые принадлежат категориям бездетные, потерявшие супруга (вдовцы/вдовы), имеющие доход ниже среднего и взявшие кредит на ремонт. "
   ]
  }
 ],
 "metadata": {
  "kernelspec": {
   "display_name": "Python 3",
   "language": "python",
   "name": "python3"
  },
  "language_info": {
   "codemirror_mode": {
    "name": "ipython",
    "version": 3
   },
   "file_extension": ".py",
   "mimetype": "text/x-python",
   "name": "python",
   "nbconvert_exporter": "python",
   "pygments_lexer": "ipython3",
   "version": "3.8.8"
  },
  "toc": {
   "base_numbering": 1,
   "nav_menu": {},
   "number_sections": false,
   "sideBar": true,
   "skip_h1_title": false,
   "title_cell": "Table of Contents",
   "title_sidebar": "Contents",
   "toc_cell": false,
   "toc_position": {},
   "toc_section_display": true,
   "toc_window_display": false
  }
 },
 "nbformat": 4,
 "nbformat_minor": 2
}
