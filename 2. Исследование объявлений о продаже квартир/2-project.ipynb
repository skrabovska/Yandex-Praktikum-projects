{
 "cells": [
  {
   "cell_type": "markdown",
   "metadata": {},
   "source": [
    "# Исследование объявлений о продаже квартир\n",
    "\n",
    "В вашем распоряжении данные сервиса Яндекс.Недвижимость — архив объявлений о продаже квартир в Санкт-Петербурге и соседних населённых пунктов за несколько лет. Нужно научиться определять рыночную стоимость объектов недвижимости. Ваша задача — установить параметры. Это позволит построить автоматизированную систему: она отследит аномалии и мошенническую деятельность. \n",
    "\n",
    "По каждой квартире на продажу доступны два вида данных. Первые вписаны пользователем, вторые — получены автоматически на основе картографических данных. Например, расстояние до центра, аэропорта, ближайшего парка и водоёма. "
   ]
  },
  {
   "cell_type": "markdown",
   "metadata": {},
   "source": [
    "## <b>Исследование объявлений о продаже квартир:</b> \n",
    "Задача исследования представляет собой установление параметров определения рыночной стоимости объектов недвижимости. \n",
    "Нам необходимо превести обработку данных, посчитать дополнительные критерии оценки и провести исследовательский анализ данных по группе параметров.\n",
    "    \n",
    "Данное исследование разделим на несколько частей:\n",
    "    \n",
    "### Часть 1. Изучение общей информации\n",
    "    \n",
    "### Часть 2. Предобработка данных\n",
    "    \n",
    "### Часть 3. Подсчёт новых значений\n",
    "    \n",
    "###  Часть 4. Исследовательский анализ данных\n",
    "\n",
    "### Часть 5. Общий вывод"
   ]
  },
  {
   "cell_type": "markdown",
   "metadata": {},
   "source": [
    "### Шаг 1. Откройте файл с данными и изучите общую информацию.\n",
    "<a id='section1'></a>"
   ]
  },
  {
   "cell_type": "code",
   "execution_count": null,
   "metadata": {},
   "outputs": [],
   "source": [
    "import pandas as pd\n",
    "import numpy as np\n",
    "df = pd.read_csv('/datasets/real_estate_data.csv', sep='\\t')\n",
    "df.info()\n",
    "display(df.head(10))\n",
    "\n",
    "for col in df.columns:\n",
    "    pct_missing = np.mean(df[col].isnull())\n",
    "    print('{} - {}%'.format(col, round(pct_missing*100))) #посчитаем процент пропусков для наглядности\n",
    "    "
   ]
  },
  {
   "cell_type": "markdown",
   "metadata": {},
   "source": [
    "### Вывод"
   ]
  },
  {
   "cell_type": "markdown",
   "metadata": {},
   "source": [
    "Всего в таблице 22 столбца, 14 пренадлежат типу float, 3 - int, 3 - object, 2 - bool. Не все названия столбцов корректны. \n",
    "Пропуски данных обнаружены в стобцах ceiling_height, living_area, is_apartment, kitchen_area, balcony, airports_nearest, cityCenters_nearest, parls_around3000, parks_nearest, ponds_Around3000, ponds_nearest, days_exposition. \n",
    "Для последующего анализа нам понадобятся значения площади, цены, числа комнат, высоты потолков, удаленности от центра, количества этажей, даты размещения и времени продажи.\n"
   ]
  },
  {
   "cell_type": "markdown",
   "metadata": {},
   "source": [
    "### Шаг 2. Предобработка данных\n",
    "<a id='section2'></a>"
   ]
  },
  {
   "cell_type": "markdown",
   "metadata": {},
   "source": [
    "### Переименование столбцов\n"
   ]
  },
  {
   "cell_type": "code",
   "execution_count": null,
   "metadata": {
    "scrolled": true
   },
   "outputs": [],
   "source": [
    "df = df.rename(columns={\"cityCenters_nearest\": \"city_center_distance\", \"studio\": \"is_studio\", \"parks_around3000\": \"parks_around_3000\", \"ponds_around3000\": \"ponds_around_3000\",\"open_plan\": \"is_open_plan\", \"ponds_nearest\": \"ponds_distance\", \"rooms\":\"rooms_number\", \"studio\":\"is_studio\"})\n",
    "df.columns #проверка"
   ]
  },
  {
   "cell_type": "markdown",
   "metadata": {},
   "source": [
    "#### Вывод"
   ]
  },
  {
   "cell_type": "markdown",
   "metadata": {},
   "source": [
    "Замена была произведена в 8 стобцах: столбцам были подобраны более говорящие названия и снижен регистр, что позволило упростить последующую работу с данными.\n"
   ]
  },
  {
   "cell_type": "markdown",
   "metadata": {},
   "source": [
    "### Обработка пропусков\n"
   ]
  },
  {
   "cell_type": "code",
   "execution_count": null,
   "metadata": {
    "scrolled": true
   },
   "outputs": [],
   "source": [
    "df['balcony'] = df['balcony'].fillna(0) #заполнение пропусков нулевым значением\n",
    "display(df['balcony'].sample(10)) #проверка по случайным значениям"
   ]
  },
  {
   "cell_type": "markdown",
   "metadata": {},
   "source": [
    "#### Вывод"
   ]
  },
  {
   "cell_type": "markdown",
   "metadata": {},
   "source": [
    "Пропуски в данных о наличии балкона могут свидетельствовать об их отсутствии, поэтому заполняем их нулевым значением."
   ]
  },
  {
   "cell_type": "code",
   "execution_count": null,
   "metadata": {},
   "outputs": [],
   "source": [
    "df.loc[df['ceiling_height'].isna(), 'ceiling_height'] = df['ceiling_height'].median() #заполнение пропусков медианой\n",
    "\n"
   ]
  },
  {
   "cell_type": "markdown",
   "metadata": {},
   "source": [
    "#### Вывод"
   ]
  },
  {
   "cell_type": "markdown",
   "metadata": {},
   "source": [
    "В данных о высоте потолков очень много пропусков - 39%. О таком высоком значении стоило бы сообщить команде, занимающейся сбором данных. Как вариант, эту графу в заполнении данных о квартире можно было сделать обязательной, чтобы её не пропускали пользователи.\n",
    "Так как у нас нет данных, из которых можно было бы высчитать высоту потолков, заполним эти пропуски медианой - т.к. она более устойчива к выбросам по отношению к среднему значению."
   ]
  },
  {
   "cell_type": "code",
   "execution_count": null,
   "metadata": {
    "scrolled": true
   },
   "outputs": [],
   "source": [
    "df.loc[df['kitchen_area'].isna(), 'kitchen_area'] = df['kitchen_area'].median() #заполнение пропусков медианой\n",
    "display(df['kitchen_area'].isna().sum(), df['kitchen_area'].sample(10)) #проверка \n",
    "n = df['total_area'] - df['kitchen_area'] #посчитаем разницу общей площади и кухонной площади\n",
    "df.loc[df['living_area'].isna(), 'living_area'] = df['living_area'].fillna(n) #заполним отсутствующие значения разницей\n",
    "display(df['living_area'].isna().sum(), df['living_area'].sample(10)) #проверка\n",
    "\n"
   ]
  },
  {
   "cell_type": "markdown",
   "metadata": {},
   "source": [
    "#### Вывод"
   ]
  },
  {
   "cell_type": "markdown",
   "metadata": {},
   "source": [
    "Значения пропусков площади кухни заполним медианой.\n",
    "Пропуски в значения жилой площади заполним разницей между общей площадью и площадью кухни."
   ]
  },
  {
   "cell_type": "code",
   "execution_count": null,
   "metadata": {
    "scrolled": true
   },
   "outputs": [],
   "source": [
    "df.dropna(subset = ['locality_name'], inplace = True) #удалим пропущенные значения города, сохранив индексы\n",
    "df['locality_name'] = df['locality_name'].str.lower() #снизим регистр\n",
    "\n",
    "df.loc[(df['city_center_distance'].isna())&(df['locality_name'] == 'санкт-петербург'), 'city_center_distance'] = \\\n",
    "df.loc[df['locality_name'] == 'санкт-петербург', 'city_center_distance'].median() #заполним пропуски в значениях отдалённости от центра в Питере медианой\n",
    "df.loc[(df['city_center_distance'].isna())&(df['locality_name'] != 'санкт-петербург'), 'city_center_distance'] = \\\n",
    "df.loc[df['locality_name'] != 'санкт-петербург', 'city_center_distance'].median() #заполним пропуски в значениях отдалённости от центрав других городах медианой\n",
    "display(df['city_center_distance'].isna().sum(), df['city_center_distance'].sample(10)) #проверка"
   ]
  },
  {
   "cell_type": "markdown",
   "metadata": {},
   "source": [
    "#### Вывод"
   ]
  },
  {
   "cell_type": "markdown",
   "metadata": {},
   "source": [
    "Пропусков в значения локации меньше 1% от данных, поэтому их удаление не должно повлиять на последующий анализ, удаляем, сохранив индексы. Также приведём значения к нижнему регистру, для удобства последующей обработки.\n",
    "Пропуски в данных об удалённости от центра заполним медианой, до этого разделив значения на Питер и другие города, т.к. значения в большом городе могут отличаться."
   ]
  },
  {
   "cell_type": "code",
   "execution_count": null,
   "metadata": {
    "scrolled": true
   },
   "outputs": [],
   "source": [
    "df.dropna(subset = ['floors_total'], inplace = True) #удаляем значения, сохранив индекс"
   ]
  },
  {
   "cell_type": "markdown",
   "metadata": {},
   "source": [
    "#### Вывод"
   ]
  },
  {
   "cell_type": "markdown",
   "metadata": {},
   "source": [
    "Пропусков в значения количества этажей меньше 1% от данных, поэтому их удаление не должно повлиять на последующий анализ, удаяем, сохранив индексы."
   ]
  },
  {
   "cell_type": "markdown",
   "metadata": {},
   "source": [
    "### Замена типа данных\n"
   ]
  },
  {
   "cell_type": "code",
   "execution_count": null,
   "metadata": {
    "scrolled": false
   },
   "outputs": [],
   "source": [
    "df['floors_total'] = df['floors_total'].astype('int') #заменяем значения с плавающей точкой на целочисленной\n",
    "df['is_apartment'] = df['is_apartment'].astype('bool') #приводим к булевому значению\n",
    "#df['days_exposition'] = df['days_exposition'].astype('int')\n",
    "df['balcony'] = df['balcony'].astype('int')\n",
    "df['first_day_exposition'] = pd.to_datetime(df['first_day_exposition'], format='%Y-%m-%dT%H:%M:%S') #приводим к формату даты и времени\n",
    "df.info() #проверка\n"
   ]
  },
  {
   "cell_type": "markdown",
   "metadata": {},
   "source": [
    "#### Вывод"
   ]
  },
  {
   "cell_type": "markdown",
   "metadata": {},
   "source": [
    "Значения столбцов с количеством этажей, балконов и дней размещения приводим к целочисленному типу, т.к. здесь значения после запятой не нужны.\n",
    "Значения в колонке с типом апартаментов булевые, к этому типу и приводим.\n",
    "Также приводим дату публикации к формату даты и времени."
   ]
  },
  {
   "cell_type": "code",
   "execution_count": null,
   "metadata": {
    "scrolled": false
   },
   "outputs": [],
   "source": [
    "df.drop(['airports_nearest', 'parks_around_3000', 'parks_nearest', 'ponds_around_3000', 'ponds_distance'], axis='columns', inplace=True)\n",
    "df.info()"
   ]
  },
  {
   "cell_type": "markdown",
   "metadata": {},
   "source": [
    "#### Вывод"
   ]
  },
  {
   "cell_type": "markdown",
   "metadata": {},
   "source": [
    "Значения столбцов с аэропортами, парками и прудами в последующем анализе нам не понадобятся, убираю их из дата фрейма, чтобы не мешались:)"
   ]
  },
  {
   "cell_type": "markdown",
   "metadata": {},
   "source": [
    "### Шаг 3. Посчитайте и добавьте в таблицу\n",
    "<a id='section3'></a>"
   ]
  },
  {
   "cell_type": "code",
   "execution_count": null,
   "metadata": {
    "scrolled": true
   },
   "outputs": [],
   "source": [
    "#цену квадратного метра;\n",
    "#день недели, месяц и год публикации объявления;\n",
    "#этаж квартиры; варианты — первый, последний, другой;\n",
    "#соотношение жилой и общей площади, а также отношение площади кухни к общей.\n",
    "\n",
    "df['price_square'] = df['last_price']/df['total_area']\n",
    "df['weekday'] = df['first_day_exposition'].dt.weekday\n",
    "df['mounth'] = pd.DatetimeIndex(df['first_day_exposition']).month \n",
    "df['year'] = pd.DatetimeIndex(df['first_day_exposition']).year \n",
    "df['floor_category'] = pd.Series(index=df.index)\n",
    "df.loc[df['floor'] == 1, 'floor_category'] = 'Первый'\n",
    "df.loc[df['floor'] == df['floors_total'], 'floor_category'] = 'Последний'\n",
    "df.loc[(df['floor'] != df['floors_total'])&(df['floor'] != 1), 'floor_category'] ='Другой'\n",
    "df['living_ratio'] = df['living_area']/df['total_area']\n",
    "df['kitchen_ratio'] = df['kitchen_area']/df['total_area']\n",
    "df.info()"
   ]
  },
  {
   "cell_type": "markdown",
   "metadata": {},
   "source": [
    "#### Вывод"
   ]
  },
  {
   "cell_type": "markdown",
   "metadata": {},
   "source": [
    "Подсчитаны новые данные и добавлены новые колонки в дата фрейм."
   ]
  },
  {
   "cell_type": "markdown",
   "metadata": {},
   "source": [
    "### Шаг 4. Проведите исследовательский анализ данных и выполните инструкции:\n",
    "<a id='section4'></a>"
   ]
  },
  {
   "cell_type": "code",
   "execution_count": null,
   "metadata": {},
   "outputs": [],
   "source": [
    "import plotly.express as px\n",
    "\n",
    "def hist_for_column(data, column, name): #функция построения гистограммы\n",
    "    fig = px.histogram(\n",
    "    data,\n",
    "    x = column,\n",
    "    title = name)\n",
    "    print(data[column].describe())\n",
    "    fig.show()"
   ]
  },
  {
   "cell_type": "code",
   "execution_count": null,
   "metadata": {
    "scrolled": false
   },
   "outputs": [],
   "source": [
    "hist_for_column(df, 'total_area', 'Total area')\n",
    "\n",
    "fig = px.histogram(df, x=\"total_area\", color=\"rooms_number\")\n",
    "fig.show()"
   ]
  },
  {
   "cell_type": "code",
   "execution_count": null,
   "metadata": {
    "scrolled": false
   },
   "outputs": [],
   "source": [
    "hist_for_column(df, 'last_price', 'Price')\n",
    "\n"
   ]
  },
  {
   "cell_type": "code",
   "execution_count": null,
   "metadata": {},
   "outputs": [],
   "source": [
    "xlim = [0, 100000000]\n",
    "fig = px.histogram(\n",
    "df,\n",
    "histnorm='probability density',\n",
    "x = 'last_price',\n",
    "title = 'Price',\n",
    "range_x = [0, 100000000])\n",
    "\n",
    "\n",
    "\n",
    "fig.show()"
   ]
  },
  {
   "cell_type": "code",
   "execution_count": null,
   "metadata": {},
   "outputs": [],
   "source": [
    "hist_for_column(df, 'ceiling_height', 'Ceiling height')"
   ]
  },
  {
   "cell_type": "code",
   "execution_count": null,
   "metadata": {
    "scrolled": false
   },
   "outputs": [],
   "source": [
    "hist_for_column(df, 'rooms_number', 'Rooms number')"
   ]
  },
  {
   "cell_type": "markdown",
   "metadata": {},
   "source": [
    "#### Вывод"
   ]
  },
  {
   "cell_type": "markdown",
   "metadata": {},
   "source": [
    "Построено четыре графика с использованием библиотеки plotly, т.к. она позволяет строить красивые качественные графики с возможностью последующего их изучения при наведении курсора и зума. \n",
    "Все графики имеют распределение близкое к Пуассону.\n",
    "1 график total area отражает колличество квартир и их общую площадь. На графике ярко заметны несколько пиков. Предполагаем, что их наличие может быть связано с числом комнат в квартире. Строим ещё один график, где цветом отражено распределение по количеству комнат. Действительно, первый пик относится к однокомнатным квартирам,второй и третий - к двухкомнатным (можно сделать вывод о влиянии и других факторов на данные о площади). Также можно сразу выделить большое количество трёхкомнатных квартир. Средняя площадь квартир составляет 60 метров квадратных и большая часть таких значений принадлежит к двухкомнатным, в меньшей степени - трёхкомнатным и в минимальной - однокомнатным. В целом значения распределени от 12 до 200 метров квадратных, квартиры с большей площадью встречаются редко.\n",
    "2 график price отражает количество квартир и их стоимость. Здесь мы можем наблюдать унимодальный график с ярковыраженным пиком. Можно сделать вывод о выбросе в данных, т.к. большое количество квартир находятся в ценовом диапазоне от 3,5 до 4 млн, что отражает медиана (=4,6 млн), а среднее значение из-за выбросов искажено и составляет 6 млн. Значения лежат в диапазоне от 1,3 до 40 млн, более высокие значения встречаются редко.\n",
    "3 график ceiling height отражает количество квартир и высоту потолков в них. Среднее значение и медиана близки, в большей части квартир высота потолка составляет 2,6 м, это также отражено ярким пиком. Значений меньшей величины очень мало, что в целом очевидно, так как в квартире с потолком ниже 2,5 метра жить сложно. Потолки выше 4 метров встречаются редко.\n",
    "4 график отражает количество комнат. В среднем в данных представлены двухкомнатные квартиры. Данные в среднемраспределены в значениях от нуля (это могут быть студии, апартаменты или квартиры со свободной планировкой) до 8-комнатных квартир. Более высокие значения встречаются редко."
   ]
  },
  {
   "cell_type": "code",
   "execution_count": null,
   "metadata": {
    "scrolled": false
   },
   "outputs": [],
   "source": [
    "hist_for_column(df, 'days_exposition', 'Days exposition')"
   ]
  },
  {
   "cell_type": "markdown",
   "metadata": {},
   "source": [
    "#### Вывод"
   ]
  },
  {
   "cell_type": "markdown",
   "metadata": {},
   "source": [
    "Значения медианы и среднего значения разительно отличаются. Можно сделать вывод о наличии выбросов в данных. На графике заметные характерные пики, большая часть квартир была продана за 90-99 дней, 40-49 дней и 60-69 дней. Больше 100 дней квартиры продаются реже - значения на графике снижаются, квартира продаётся медленно. Больше 800 - большая редкость. Продажу за срок до 40 дней можно считать быстрой. "
   ]
  },
  {
   "cell_type": "code",
   "execution_count": null,
   "metadata": {},
   "outputs": [],
   "source": [
    "def box_plot(data, column, name): \n",
    "    print(data[column].describe())\n",
    "    fig = px.box(data, y = column,  title = name)\n",
    "    fig.show()\n",
    "# функция вывода ящика с усами"
   ]
  },
  {
   "cell_type": "code",
   "execution_count": null,
   "metadata": {},
   "outputs": [],
   "source": [
    "box_plot(df, 'total_area', 'Total area')\n",
    "\n",
    "q1 = df.total_area.quantile(0.25) #считаем 1 квантиль\n",
    "q3 = df.total_area.quantile(0.75) #считаем 3 квантиль\n",
    "iqr =q3-q1 #межквартильный размах\n",
    "df_new = df.query('total_area <= @q3+1.5*@iqr')\n",
    "\n",
    "box_plot(df_new, 'total_area', 'Total area new')\n"
   ]
  },
  {
   "cell_type": "markdown",
   "metadata": {},
   "source": [
    "#### Вывод"
   ]
  },
  {
   "cell_type": "markdown",
   "metadata": {},
   "source": [
    "По ящику с усами обнаруживаем большое количество выбросов. Пробуем их убрать, построив лимиты по межквартильному размаху. Теперь выглядит красиво и без ярких выбросов (те, что имеются, связаны с тем, что сместилась медиана)."
   ]
  },
  {
   "cell_type": "code",
   "execution_count": null,
   "metadata": {
    "scrolled": false
   },
   "outputs": [],
   "source": [
    "box_plot(df, 'ceiling_height', 'Ceiling height')\n",
    "\n",
    "df_new = df_new.query('2.4 <= ceiling_height <= 4')\n",
    "\n",
    "box_plot(df_new, 'ceiling_height', 'Ceiling height new')\n"
   ]
  },
  {
   "cell_type": "markdown",
   "metadata": {},
   "source": [
    "#### Вывод"
   ]
  },
  {
   "cell_type": "markdown",
   "metadata": {},
   "source": [
    "Минимальной нормой в России считается высота потолка 2,4 метра, в наших данных встречаются более низкие значения, их стоит убрать. Также убираем значения с высотой потолка выше 4 метров, т.к. такие значения встречаются редко. "
   ]
  },
  {
   "cell_type": "code",
   "execution_count": null,
   "metadata": {},
   "outputs": [],
   "source": [
    "box_plot(df, 'last_price', 'Price')\n",
    "\n",
    "\n",
    "df_new = df_new.query('last_price <= 40000000')\n",
    "\n",
    "box_plot(df_new, 'last_price', 'Price new')\n"
   ]
  },
  {
   "cell_type": "markdown",
   "metadata": {},
   "source": [
    "#### Вывод"
   ]
  },
  {
   "cell_type": "markdown",
   "metadata": {},
   "source": [
    "Убираем значения стоимости выше 40 млн. - т.к. они встречаются редко.\n"
   ]
  },
  {
   "cell_type": "code",
   "execution_count": null,
   "metadata": {},
   "outputs": [],
   "source": [
    "box_plot(df, 'rooms_number', 'Rooms number')\n",
    "\n",
    "q1 = df.rooms_number.quantile(0.25)\n",
    "q3 = df.rooms_number.quantile(0.75)\n",
    "iqr =q3-q1\n",
    "df_new = df_new.query('rooms_number <= @q3+1.5*@iqr')\n",
    "\n",
    "box_plot(df_new, 'rooms_number', 'Rooms number new')\n"
   ]
  },
  {
   "cell_type": "markdown",
   "metadata": {},
   "source": [
    "#### Вывод"
   ]
  },
  {
   "cell_type": "markdown",
   "metadata": {},
   "source": [
    "На графике обнаруживаем небольшое кол-во выбросов - убираем их с помощью подчёта межквартильного размаха.\n"
   ]
  },
  {
   "cell_type": "code",
   "execution_count": null,
   "metadata": {},
   "outputs": [],
   "source": [
    "box_plot(df, 'days_exposition', 'Days exposition')\n",
    "\n",
    "df_new = df_new.query('days_exposition <= 800')\n",
    "\n",
    "box_plot(df_new, 'days_exposition', 'Days exposition new')"
   ]
  },
  {
   "cell_type": "markdown",
   "metadata": {},
   "source": [
    "#### Вывод"
   ]
  },
  {
   "cell_type": "markdown",
   "metadata": {},
   "source": [
    "Значения со сроком размещения публикации, превышающие 800 дней, всречаются очень редко, поэтому убираем их.\n"
   ]
  },
  {
   "cell_type": "code",
   "execution_count": null,
   "metadata": {
    "scrolled": false
   },
   "outputs": [],
   "source": [
    "print(\"В итоге отрезали {:.1%} данных\".format((len(df)-len(df_new))/len(df)))"
   ]
  },
  {
   "cell_type": "markdown",
   "metadata": {},
   "source": [
    "#### Вывод"
   ]
  },
  {
   "cell_type": "markdown",
   "metadata": {},
   "source": [
    "По итогу проведённой работы по обработке редких и выбивающихся значений мы отрезали 7.7% данных. Думаю, что это достаточно большой процент и всё же приемлемый, дальнейшую работу проводим с новым df - df_new."
   ]
  },
  {
   "cell_type": "code",
   "execution_count": null,
   "metadata": {},
   "outputs": [],
   "source": [
    "print(\"Корреляция цены и столбцов:\")\n",
    "print(df_new[['total_area', 'rooms_number', 'city_center_distance']].corrwith(df_new['last_price']))\n",
    "columns = ['total_area', 'rooms_number', 'city_center_distance','last_price']\n",
    "fig = px.scatter_matrix(df_new[columns], title = 'Scatter Matrix')\n",
    "fig.show()"
   ]
  },
  {
   "cell_type": "markdown",
   "metadata": {},
   "source": [
    "#### Вывод"
   ]
  },
  {
   "cell_type": "markdown",
   "metadata": {},
   "source": [
    "По результатам корреляции Пирсона мы наблюдаем прямую взаимосвязь площадь квартиры и её стоимости, а также обратную корреляцию удалённости от центра и стоимости (чем дальше от центра находится квартира - тем ниже её стоимость, что в целом логично). Цена также прямо коррелирует с количеством комнат, но в меньшей степени.\n",
    "Данные выводы иллюстрируются диаграммами на матрице рассеяния."
   ]
  },
  {
   "cell_type": "code",
   "execution_count": null,
   "metadata": {},
   "outputs": [],
   "source": [
    "fig = px.histogram(df_new, x=\"floor_category\", y = 'last_price', color = 'floor_category', histfunc = 'avg', title = 'Correlation between price and floor category')\n",
    "fig.show()"
   ]
  },
  {
   "cell_type": "code",
   "execution_count": null,
   "metadata": {
    "scrolled": false
   },
   "outputs": [],
   "source": [
    "df_new.columns \n",
    "fig = px.histogram(df_new, nbins = 10, x=\"weekday\", y = 'last_price', color = 'weekday', histfunc = 'avg', title = 'Correlation between price and weekday')\n",
    "fig.show()\n",
    "\n",
    "fig = px.histogram(df_new, x=\"mounth\", y = 'last_price', color = 'mounth', histfunc = 'avg', title = 'Correlation between price and weekday')\n",
    "fig.show()\n",
    "\n",
    "fig = px.histogram(df_new, x=\"year\", y = 'last_price', color = 'year', histfunc = 'avg', title = 'Correlation between price and weekday')\n",
    "fig.show()"
   ]
  },
  {
   "cell_type": "markdown",
   "metadata": {},
   "source": [
    "#### Вывод"
   ]
  },
  {
   "cell_type": "markdown",
   "metadata": {},
   "source": [
    "Квартиры на последем этаже в среднем дороже, чем на первом.\n",
    "\n",
    "Взаимосвязи стоимости квартиры и дня недели/месяца публикации не наблюдается.\n",
    "Видим определённую зависимость стомости от года. С 2014 по 2015 год происходит резкое падение стоимости, практически на 1.5 млн. Возможно, это связано с общим кризисом и ослаблением рубля. в 2016-2018 году стоимость держится примерно на одном уровне, а в 2019 начинает расти. "
   ]
  },
  {
   "cell_type": "code",
   "execution_count": null,
   "metadata": {},
   "outputs": [],
   "source": [
    "df_new.columns\n",
    "data = df_new['locality_name'].value_counts().head(10) #выбираем 10 локаций с самым высоким числом объявлений\n",
    "sorted_city_list = data.index\n",
    "df_new.query('locality_name in @sorted_city_list').pivot_table(index='locality_name', values='price_square').sort_values(by='price_square', ascending=False)\n",
    "#строим сводную таблицу по стоимости"
   ]
  },
  {
   "cell_type": "markdown",
   "metadata": {},
   "source": [
    "#### Вывод"
   ]
  },
  {
   "cell_type": "markdown",
   "metadata": {},
   "source": [
    "Населённый пункт с самой высокой стоимостью жилья - Санкт-Петербург, самой низкой - Выборг."
   ]
  },
  {
   "cell_type": "code",
   "execution_count": null,
   "metadata": {},
   "outputs": [],
   "source": [
    "import warnings\n",
    "\n",
    "warnings.filterwarnings('ignore')\n",
    "\n",
    "df_sp = df_new.query('locality_name == \"санкт-петербург\"') #выбираем квартиры в Питере\n",
    "df_sp['city_center_distance_km'] = (df_sp['city_center_distance'] / 1000).round()\n",
    "\n",
    "fig = px.histogram(df_sp, x='city_center_distance_km', y = 'last_price',  histfunc = 'avg', title = 'Price and city center distance') #строим гистограмму удалённости от центра и среднего значения стоимости\n",
    "fig.show()\n"
   ]
  },
  {
   "cell_type": "markdown",
   "metadata": {},
   "source": [
    "#### Вывод"
   ]
  },
  {
   "cell_type": "markdown",
   "metadata": {},
   "source": [
    "На графике можно выделить резкое падение средней стоимости после 7  км удалённости от центра, по этому значению и определим центр.\n",
    "Также наблюдаем странный пик с высокой стоимостью в 27 км от центра, как вариант, это может быть район с элитной загородной недвижимостью."
   ]
  },
  {
   "cell_type": "code",
   "execution_count": null,
   "metadata": {
    "scrolled": true
   },
   "outputs": [],
   "source": [
    "df_sp_not_center = df_sp.query('city_center_distance_km > 7')\n",
    "df_sp_center = df_sp.query('city_center_distance_km <= 7') \n",
    "\n",
    "hist_for_column(df_sp_center, 'total_area', 'Total area center')\n",
    "hist_for_column(df_sp_not_center, 'total_area', 'Total area not center')\n"
   ]
  },
  {
   "cell_type": "markdown",
   "metadata": {},
   "source": [
    "#### Вывод"
   ]
  },
  {
   "cell_type": "markdown",
   "metadata": {},
   "source": [
    "Сравнивая площадь квартир в центре Петербурга и за центром можно сделать вывод, что в среднем площадь квартир в центре выше.В центре средние значения лежат в диапазоне от 50 до 86 квадратных метров, а за центром - от 39 до 64."
   ]
  },
  {
   "cell_type": "code",
   "execution_count": null,
   "metadata": {},
   "outputs": [],
   "source": [
    "hist_for_column(df_sp_center, 'last_price', 'Total area center')\n",
    "hist_for_column(df_sp_not_center, 'last_price', 'Total area not center')"
   ]
  },
  {
   "cell_type": "markdown",
   "metadata": {},
   "source": [
    "#### Вывод"
   ]
  },
  {
   "cell_type": "markdown",
   "metadata": {},
   "source": [
    "Сравнивая стоимость квартир в центре Петербурга и за центром можно сделать вывод, что в среднем площадь квартир в центре значительно выше. В центре средние значения лежат в диапазоне от 6 до 10 млн, а за центром - от 4 до 6,5 млн."
   ]
  },
  {
   "cell_type": "code",
   "execution_count": null,
   "metadata": {},
   "outputs": [],
   "source": [
    "hist_for_column(df_sp_center, 'rooms_number', 'Rooms number')\n",
    "hist_for_column(df_sp_not_center, 'rooms_number', 'Rooms number not center')"
   ]
  },
  {
   "cell_type": "markdown",
   "metadata": {},
   "source": [
    "#### Вывод"
   ]
  },
  {
   "cell_type": "markdown",
   "metadata": {},
   "source": [
    "Сравнивая кол-во комнат в квартирах в центре Петербурга и за центром можно сделать вывод, что в среднем среди квартир в обоих случаях преобладают двухкомнатные. Но в центре больше 4 и 5 комнатных квартир, чем за центром, а за центром значительно больше 1-комнатных."
   ]
  },
  {
   "cell_type": "code",
   "execution_count": null,
   "metadata": {},
   "outputs": [],
   "source": [
    "hist_for_column(df_sp_center, 'ceiling_height', 'Ceiling height')\n",
    "hist_for_column(df_sp_not_center, 'ceiling_height', 'Ceiling height not center')"
   ]
  },
  {
   "cell_type": "markdown",
   "metadata": {},
   "source": [
    "#### Вывод"
   ]
  },
  {
   "cell_type": "markdown",
   "metadata": {},
   "source": [
    "Сравнивая высоту потолков в квартирах в центре Петербурга и за центром можно сделать вывод, что в среднем потолки в квартирах в центре выше, средний диапазон значений - от 2,6 до 3, в отличие от квартир за центром - от 2,6 до 2,7, также в центре чаще встречаются значения выше 3 метров."
   ]
  },
  {
   "cell_type": "code",
   "execution_count": null,
   "metadata": {},
   "outputs": [],
   "source": [
    "print(\"Корреляция цены и столбцов:\")\n",
    "print(df_sp_center[['total_area', 'rooms_number', 'city_center_distance']].corrwith(df_new['last_price']))\n",
    "print(df_sp_not_center[['total_area', 'rooms_number', 'city_center_distance']].corrwith(df_new['last_price'])) "
   ]
  },
  {
   "cell_type": "markdown",
   "metadata": {},
   "source": [
    "#### Вывод"
   ]
  },
  {
   "cell_type": "markdown",
   "metadata": {},
   "source": [
    "По значения корреляции Пирсона можно сделать вывод о том, что зависимость цены от площади квартир вне центра выше, нежели квартир в центре, но в обоих случаях корреляция есть и она положительная.\n",
    "То же происходит и с зависимостью цены от количества комнат - корелляция вне центра выше.\n",
    "Корреляции цены и удалённости от центра не наблюдается, т.к. наши данные уже распределены по группам относительно этого параметра."
   ]
  },
  {
   "cell_type": "code",
   "execution_count": null,
   "metadata": {},
   "outputs": [],
   "source": [
    "def hist_sp(data):\n",
    "    fig = px.histogram(\n",
    "    data,\n",
    "    x = 'weekday',\n",
    "    y = 'last_price',\n",
    "    color = 'weekday',\n",
    "    histfunc = 'avg',\n",
    "    title = 'Correlation between price and weekday')\n",
    "    \n",
    "    fig.show()\n",
    "    \n",
    "    fig = px.histogram(\n",
    "    data,\n",
    "    x = 'mounth',\n",
    "    y = 'last_price',\n",
    "    color = 'mounth',\n",
    "    histfunc = 'avg',\n",
    "    title = 'Correlation between price and mounth')\n",
    "    \n",
    "    fig.show()\n",
    "    \n",
    "    fig = px.histogram(\n",
    "    data,\n",
    "    x = 'year',\n",
    "    y = 'last_price',\n",
    "    color = 'year',\n",
    "    histfunc = 'avg',\n",
    "    title = 'Correlation between price and year')\n",
    "    \n",
    "    fig.show()\n",
    "    \n"
   ]
  },
  {
   "cell_type": "code",
   "execution_count": null,
   "metadata": {
    "scrolled": true
   },
   "outputs": [],
   "source": [
    "print('Correlation between date and price in center of SPb:')\n",
    "hist_sp(df_sp_center)\n",
    "print('Correlation between date and price out of center of SPb:')\n",
    "hist_sp(df_sp_not_center)"
   ]
  },
  {
   "cell_type": "markdown",
   "metadata": {},
   "source": [
    "#### Вывод"
   ]
  },
  {
   "cell_type": "markdown",
   "metadata": {},
   "source": [
    "В обоих случаях особой взаимосвязи между днём и месяцом публикации и средней стоимости нет.\n",
    "Интересная взаимосвязь наблюдается с годом публикации - в среднем  стоимость на квартиры в центре с 14 по 16 год растёт, в 2017 падает до значения 2015 года и снова начинает возрастать. \n",
    "А самое высокое значение средней стоимости квартир за центром наблюдалась в 2014 году, после чего резко снизилась, и с 2017 года понемногу растёт.\n"
   ]
  },
  {
   "cell_type": "markdown",
   "metadata": {},
   "source": [
    "### Шаг 5. Общий вывод\n",
    "<a id='section5'></a>"
   ]
  },
  {
   "cell_type": "markdown",
   "metadata": {},
   "source": [
    "Типичная квартира по данным всего датасета является двухкомнатной, площадью 60 кв.м., с высотой потолка 2,6 метра. Стоит такая кватира 5 млн, а продаётся за 144 дня.\n",
    "На стомость ей влияет площадь (прямая корреляция), удалённость от центра (дальше - дешевле), и количество комнат (прямая). Квартира на первом этаже в среднем будет стоить дешевле, нежели на последнем.\n",
    "Да стоимость не влияет день недели и месяц. Самая высокая средняя стоимость наблюдалась в 2014 году, после чего снизилась и возросла в 2019 году и составила 5.6 млн.\n",
    "\n",
    "Типичная квартира в центре Петербурга является двухкомнатной, площадью 68 кв.м., с высокими потолками - 2,9 м. и стоимостью 9 млн. Начиная с 2017 года стомость квартиры в центре увеличивается.\n",
    "\n",
    "Типичная квартира вне центра Петербурга является двухкомнатной, площадью 53 кв.м., с высотой потолка 2.6 м. и стоиостью 5,7 млн.\n",
    "\n",
    "В целом квартиры в центре Петербурга отличаются более высокой стомостью, большей площадью и большей высотой потолков. Это может быть связано с большим количеством в центре исторических квартир старого образца, тем временем как вне центра появляются более типичные современности новостройки."
   ]
  },
  {
   "cell_type": "code",
   "execution_count": null,
   "metadata": {},
   "outputs": [],
   "source": []
  }
 ],
 "metadata": {
  "ExecuteTimeLog": [
   {
    "duration": 660,
    "start_time": "2021-07-10T21:04:50.000Z"
   },
   {
    "duration": 10,
    "start_time": "2021-07-10T21:04:50.662Z"
   },
   {
    "duration": 19,
    "start_time": "2021-07-10T21:04:50.674Z"
   },
   {
    "duration": 6,
    "start_time": "2021-07-10T21:04:50.696Z"
   },
   {
    "duration": 17,
    "start_time": "2021-07-10T21:04:50.704Z"
   },
   {
    "duration": 33,
    "start_time": "2021-07-10T21:04:50.723Z"
   },
   {
    "duration": 40,
    "start_time": "2021-07-10T21:04:50.757Z"
   },
   {
    "duration": 2,
    "start_time": "2021-07-10T21:04:50.800Z"
   },
   {
    "duration": 20,
    "start_time": "2021-07-10T21:04:50.804Z"
   },
   {
    "duration": 10,
    "start_time": "2021-07-10T21:04:50.825Z"
   },
   {
    "duration": 59,
    "start_time": "2021-07-10T21:04:50.836Z"
   },
   {
    "duration": 320,
    "start_time": "2021-07-10T21:04:50.896Z"
   },
   {
    "duration": 1369,
    "start_time": "2021-07-10T21:04:51.217Z"
   },
   {
    "duration": 440,
    "start_time": "2021-07-10T21:04:52.591Z"
   },
   {
    "duration": 449,
    "start_time": "2021-07-10T21:04:53.033Z"
   },
   {
    "duration": 482,
    "start_time": "2021-07-10T21:04:53.484Z"
   },
   {
    "duration": 341,
    "start_time": "2021-07-10T21:04:53.967Z"
   },
   {
    "duration": 460,
    "start_time": "2021-07-10T21:04:54.310Z"
   },
   {
    "duration": 3,
    "start_time": "2021-07-10T21:04:54.772Z"
   },
   {
    "duration": 882,
    "start_time": "2021-07-10T21:04:54.776Z"
   },
   {
    "duration": 804,
    "start_time": "2021-07-10T21:04:55.660Z"
   },
   {
    "duration": 906,
    "start_time": "2021-07-10T21:04:56.467Z"
   },
   {
    "duration": 785,
    "start_time": "2021-07-10T21:04:57.376Z"
   },
   {
    "duration": 852,
    "start_time": "2021-07-10T21:04:58.163Z"
   },
   {
    "duration": 3,
    "start_time": "2021-07-10T21:04:59.016Z"
   },
   {
    "duration": 537,
    "start_time": "2021-07-10T21:04:59.021Z"
   },
   {
    "duration": 543,
    "start_time": "2021-07-10T21:04:59.559Z"
   },
   {
    "duration": 1468,
    "start_time": "2021-07-10T21:05:00.104Z"
   },
   {
    "duration": 30,
    "start_time": "2021-07-10T21:05:01.574Z"
   },
   {
    "duration": 433,
    "start_time": "2021-07-10T21:05:01.605Z"
   },
   {
    "duration": 638,
    "start_time": "2021-07-10T21:05:02.040Z"
   },
   {
    "duration": 600,
    "start_time": "2021-07-10T21:05:02.691Z"
   },
   {
    "duration": 570,
    "start_time": "2021-07-10T21:05:03.293Z"
   },
   {
    "duration": 604,
    "start_time": "2021-07-10T21:05:03.864Z"
   },
   {
    "duration": 29,
    "start_time": "2021-07-10T21:05:04.470Z"
   },
   {
    "duration": 4,
    "start_time": "2021-07-10T21:05:04.500Z"
   },
   {
    "duration": 2243,
    "start_time": "2021-07-10T21:05:04.505Z"
   }
  ],
  "kernelspec": {
   "display_name": "Python 3",
   "language": "python",
   "name": "python3"
  },
  "language_info": {
   "codemirror_mode": {
    "name": "ipython",
    "version": 3
   },
   "file_extension": ".py",
   "mimetype": "text/x-python",
   "name": "python",
   "nbconvert_exporter": "python",
   "pygments_lexer": "ipython3",
   "version": "3.8.8"
  },
  "toc": {
   "base_numbering": 1,
   "nav_menu": {},
   "number_sections": true,
   "sideBar": true,
   "skip_h1_title": false,
   "title_cell": "Table of Contents",
   "title_sidebar": "Contents",
   "toc_cell": false,
   "toc_position": {},
   "toc_section_display": true,
   "toc_window_display": false
  }
 },
 "nbformat": 4,
 "nbformat_minor": 2
}
